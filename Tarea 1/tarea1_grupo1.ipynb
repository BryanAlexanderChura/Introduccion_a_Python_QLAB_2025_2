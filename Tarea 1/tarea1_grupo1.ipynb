{
 "cells": [
  {
   "cell_type": "markdown",
   "id": "2a44fd1e",
   "metadata": {
    "id": "2a44fd1e"
   },
   "source": [
    "# Tarea 1\n"
   ]
  },
  {
   "cell_type": "markdown",
   "id": "bdacefa6",
   "metadata": {
    "id": "bdacefa6"
   },
   "source": [
    "Fecha de entrega:\n",
    "Jueves 7 de agosto, 2025, 11:59pm\n",
    "\n",
    "Comentarios generales:\n",
    "\n",
    "- No olvidar que python usa el snake_case (o minúsculas separadas por subguión) para llamar a sus variables.\n",
    "- No nombrar variables con acentos porque algunas veces, dependiendo de la máquina en la que se corra, esto será aceptado o no.\n",
    "- Leer  claramente qué es lo que pide la pregunta.  \n",
    "   \n"
   ]
  },
  {
   "cell_type": "markdown",
   "id": "80152401",
   "metadata": {
    "id": "80152401"
   },
   "source": [
    "Ejemplo:  Utilizando sólo los siguientes inputs numéricos: ```5``` y ```2```  , maneje los operadores tal que el output sea ```120```. Crea una variable con el resultado."
   ]
  },
  {
   "cell_type": "code",
   "execution_count": 44,
   "id": "7601a7f9",
   "metadata": {
    "id": "7601a7f9",
    "outputId": "60035514-deb5-4eaf-9c29-172e0bdeecf8"
   },
   "outputs": [
    {
     "name": "stdout",
     "output_type": "stream",
     "text": [
      "120\n"
     ]
    }
   ],
   "source": [
    "#Respuesta\n",
    "e = 5**2 + 5**2 + 5**2 + 5**2 + (2**2)*5\n",
    "print(e)"
   ]
  },
  {
   "cell_type": "markdown",
   "id": "a8018627",
   "metadata": {
    "id": "a8018627"
   },
   "source": [
    "1.  Utilizando sólo los siguientes inputs: ```5``` y ```2```  , maneje los operadores tal que el output sea ```100```"
   ]
  },
  {
   "cell_type": "code",
   "execution_count": 43,
   "id": "1f723e46",
   "metadata": {
    "id": "1f723e46"
   },
   "outputs": [
    {
     "name": "stdout",
     "output_type": "stream",
     "text": [
      "100\n"
     ]
    }
   ],
   "source": [
    "e = (2**2)*(5**2)\n",
    "print(e)"
   ]
  },
  {
   "cell_type": "markdown",
   "id": "994dc4bc",
   "metadata": {
    "id": "994dc4bc"
   },
   "source": [
    "2. Evalúa que el output del ejemplo sea mayor al output de 1. Crea una variable con esta evaluación (Hint: Será un booleano)."
   ]
  },
  {
   "cell_type": "code",
   "execution_count": 42,
   "id": "b8928779",
   "metadata": {
    "id": "b8928779"
   },
   "outputs": [
    {
     "name": "stdout",
     "output_type": "stream",
     "text": [
      "True\n"
     ]
    }
   ],
   "source": [
    "evaluacion = 120 > 100\n",
    "print (evaluacion)\n"
   ]
  },
  {
   "cell_type": "markdown",
   "id": "69918902",
   "metadata": {
    "id": "69918902"
   },
   "source": [
    "3. Utilizando sólo los siguientes inputs: ```51``` maneja los operadores tal que el output sea ```0```"
   ]
  },
  {
   "cell_type": "code",
   "execution_count": 41,
   "id": "4dcc2afa",
   "metadata": {
    "id": "4dcc2afa"
   },
   "outputs": [
    {
     "name": "stdout",
     "output_type": "stream",
     "text": [
      "0\n"
     ]
    }
   ],
   "source": [
    "resultado = int(not 51)\n",
    "print(resultado)\n"
   ]
  },
  {
   "cell_type": "markdown",
   "id": "97cf5786",
   "metadata": {
    "id": "97cf5786"
   },
   "source": [
    "4.  Utilizando sólo los siguientes inputs: ```2``` (todos los 2 que necesites) maneja los operadores tal que el output sea ```5```"
   ]
  },
  {
   "cell_type": "code",
   "execution_count": 40,
   "id": "418fdb47",
   "metadata": {
    "id": "418fdb47"
   },
   "outputs": [
    {
     "name": "stdout",
     "output_type": "stream",
     "text": [
      "5\n"
     ]
    }
   ],
   "source": [
    "resultado = (2*2)+(2//2)\n",
    "print(resultado)"
   ]
  },
  {
   "cell_type": "markdown",
   "id": "178e7ec3",
   "metadata": {
    "id": "178e7ec3"
   },
   "source": [
    "5. Crea una variable ```x``` y una variable ```y``` que sumen 2500. Crea una variable ```v``` que dé un booleano, tal que evalúe que ```x + y``` sea igual a 2200."
   ]
  },
  {
   "cell_type": "code",
   "execution_count": 39,
   "id": "0e75e524",
   "metadata": {
    "id": "0e75e524"
   },
   "outputs": [
    {
     "name": "stdout",
     "output_type": "stream",
     "text": [
      "2500\n",
      "False\n"
     ]
    }
   ],
   "source": [
    "x = 1000\n",
    "y = 1500\n",
    "e = (x+y)\n",
    "print(e)\n",
    "v = e == 2200\n",
    "print(v)"
   ]
  },
  {
   "cell_type": "markdown",
   "id": "163e5332",
   "metadata": {
    "id": "163e5332"
   },
   "source": [
    "6. Cree una variable ```z``` y una variable ```a``` que sumen 1000."
   ]
  },
  {
   "cell_type": "code",
   "execution_count": 38,
   "id": "846bea9d",
   "metadata": {
    "id": "846bea9d"
   },
   "outputs": [
    {
     "name": "stdout",
     "output_type": "stream",
     "text": [
      "1000\n"
     ]
    }
   ],
   "source": [
    "z = 500\n",
    "a = 500\n",
    "e = z+a\n",
    "print(e) "
   ]
  },
  {
   "cell_type": "markdown",
   "id": "c222c968",
   "metadata": {
    "id": "c222c968"
   },
   "source": [
    "7. Calcula cuántas horas trabajan en total los 130 congresistas de nuestro país en un año. Asume que trabajan 40 horas a la semana, por 48 semanas al año (considerando que tienen vacaciones y no trabajan sobretiempo)."
   ]
  },
  {
   "cell_type": "code",
   "execution_count": 4,
   "id": "5deb8908",
   "metadata": {
    "id": "5deb8908"
   },
   "outputs": [
    {
     "name": "stdout",
     "output_type": "stream",
     "text": [
      "Horas que trabajan los 130 congresistas al año: 249600\n"
     ]
    }
   ],
   "source": [
    "horas_por_semana=40\n",
    "semanas_al_año=48\n",
    "congresistas=130\n",
    "horas_trabajadas_al_año= horas_por_semana*semanas_al_año\n",
    "h=horas_trabajadas_al_año*congresistas\n",
    "print(\"Horas que trabajan los 130 congresistas al año:\",h)"
   ]
  },
  {
   "cell_type": "markdown",
   "id": "80e32ec2",
   "metadata": {
    "id": "80e32ec2"
   },
   "source": [
    "8. Ahora calcula el salario de un congresista por hora. Los supuestos del anterior ejercicio se mantienen (Se puede pasar por alto las vacaciones). Cabe recordar que los congresistas ganan 15,600 soles mensuales.   \n",
    "- Crea una variable para el salario por hora de un congresista.   \n",
    "- Crea una variable para la suma de los salarios por hora de los 130 congresistas.\n"
   ]
  },
  {
   "cell_type": "code",
   "execution_count": 3,
   "id": "6d98f342",
   "metadata": {
    "id": "6d98f342"
   },
   "outputs": [
    {
     "name": "stdout",
     "output_type": "stream",
     "text": [
      "Salario por hora de un congresista: 97.5\n",
      "Suma de salarios por hora de todos los congresistas: 12675.0\n"
     ]
    }
   ],
   "source": [
    "salario_mensual = 15600\n",
    "horas_mes = 8*5*4   #son 8 horas * 5 días * 4 semanas\n",
    "congresistas = 130\n",
    "salario_hora = salario_mensual / horas_mes\n",
    "suma_de_salarios_hora = salario_hora * congresistas\n",
    "print(\"Salario por hora de un congresista:\", salario_hora)\n",
    "print(\"Suma de salarios por hora de todos los congresistas:\", suma_de_salarios_hora)"
   ]
  },
  {
   "cell_type": "markdown",
   "id": "ae512853",
   "metadata": {
    "id": "ae512853"
   },
   "source": [
    "9. Con la reducción del IGV para restaurantes y hoteles (https://emprender.sunat.gob.pe/tributando/temas-actualidad/reduccion-igv-para-restaurantes-hoteles), los restaurantes pagan el 10% de IGV. Un restaurante factura 3426 soles diarios, en promedio, después de impuestos. Calcule el valor base (el IGV es 10% sobre el valor base, ó 1 + .1).\n",
    "\n",
    "Calcule, utilizando el valor base, cuánto es el descuento del IGV en soles (o el 8% de este valor base).\n",
    "\n",
    "Cree una variable para cada uno de los siguientes:\n",
    "- porcentaje de IGV\n",
    "- el total de facturación\n",
    "- el monto del impuesto\n",
    "- el valor base sin impuesto\n",
    "- el descuento de IGV en soles. Puedes comprobar tu fórmula con cualquier recibo de pago que detalle el IGV."
   ]
  },
  {
   "cell_type": "code",
   "execution_count": 20,
   "id": "bb7b1768",
   "metadata": {},
   "outputs": [
    {
     "name": "stdout",
     "output_type": "stream",
     "text": [
      "Porcentaje de IGV: 0.1\n",
      "Total de facturación: 3426\n",
      "Monto del impuesto: 311.4545454545455\n",
      "Valor base sin impuesto: 3114.5454545454545\n",
      "Descuento de IGV: 249.16363636363636\n"
     ]
    }
   ],
   "source": [
    "porcentaje_de_IGV = 0.10\n",
    "total_de_facturación = 3426\n",
    "valor_base = total_de_facturación / (1 + porcentaje_de_IGV)\n",
    "monto_IGV = porcentaje_de_IGV * valor_base\n",
    "valor_base_sin_impuestos = total_de_facturación/(1+0.10)\n",
    "descuento_de_IGV=0.08*valor_base_sin_impuestos\n",
    "\n",
    "print(\"Porcentaje de IGV:\", porcentaje_de_IGV)\n",
    "print(\"Total de facturación:\", total_de_facturación)\n",
    "print(\"Monto del impuesto:\", monto_IGV)\n",
    "print(\"Valor base sin impuesto:\", valor_base_sin_impuestos)\n",
    "print(\"Descuento de IGV:\", descuento_de_IGV)"
   ]
  },
  {
   "cell_type": "markdown",
   "id": "69f6e4f9",
   "metadata": {
    "id": "69f6e4f9"
   },
   "source": [
    "10.  Cristina percibe el sueldo mínimo (1130 soles). Compruebe que el salario anual de Cristina es menor al salario anual de un congresista, usando operadores de comparación y una expresión que detalle el monto mensual y el número de meses trabajados de ambos. La comparación debe ser ser evaluada a un booleano"
   ]
  },
  {
   "cell_type": "code",
   "execution_count": 9,
   "id": "cc09bc62",
   "metadata": {
    "id": "cc09bc62"
   },
   "outputs": [
    {
     "data": {
      "text/plain": [
       "True"
      ]
     },
     "execution_count": 9,
     "metadata": {},
     "output_type": "execute_result"
    }
   ],
   "source": [
    "salario_anual_cristina= 1130*12\n",
    "salario_anual_congresista= (15600)*12\n",
    "salario_anual_cristina<salario_anual_congresista"
   ]
  },
  {
   "cell_type": "markdown",
   "id": "37de8248",
   "metadata": {
    "id": "37de8248"
   },
   "source": [
    "11. Una conocida petrolera debe volver a compensar a  1023 familias que se dedican a la pesca por la contaminación causada en el mar donde pescan. El nuevo monto negociado es de 1200 millones de soles, sin embargo, una cláusula del contrato dice que el monto de compensación tiene que ser un número entero. ¿Cuántos soles adicionales se le  tiene  que agregar al monto negociado para que las familias reciban una cantidad entera,  asumiendo que para lograr este número entero, hay que elevar el monto total? (Pista: Acuérdate del  floor y el módulo)."
   ]
  },
  {
   "cell_type": "code",
   "execution_count": 16,
   "id": "948141a9",
   "metadata": {
    "id": "948141a9"
   },
   "outputs": [
    {
     "name": "stdout",
     "output_type": "stream",
     "text": [
      "Compensación actual por familia (con decimal): 1173020.5278592375\n",
      "Compensación redondeada hacia abajo (floor): 1173020\n",
      "Resto al dividir (módulo/residuo): 540\n",
      "Soles adicionales que se deben agregar: 483\n"
     ]
    }
   ],
   "source": [
    "monto = 1200000000\n",
    "familias = 1023\n",
    "\n",
    "compensacion_actual = monto / familias\n",
    "compensacion_floor = monto // familias\n",
    "\n",
    "sobrante = monto % familias\n",
    "\n",
    "# Calculamos los soles adicionales (si sobrante = 0, no hay que agregar nada)\n",
    "if sobrante == 0:\n",
    "    adicional = 0\n",
    "else:\n",
    "    adicional = familias - sobrante\n",
    "\n",
    "print(\"Compensación actual por familia (con decimal):\", compensacion_actual)\n",
    "print(\"Compensación redondeada hacia abajo (floor):\", compensacion_floor)\n",
    "print(\"Resto al dividir (módulo/residuo):\", sobrante)\n",
    "print(\"Soles adicionales que se deben agregar:\", adicional)\n"
   ]
  },
  {
   "cell_type": "markdown",
   "id": "75a0de8e",
   "metadata": {
    "id": "75a0de8e"
   },
   "source": [
    "12. Crea una variable igual a una lista que contenga:\n",
    "- un string,\n",
    "- un booleano,\n",
    "- dos valores numéricos (de cualquier tipo) y\n",
    "- una lista de dos strings con el nombre de tus artistas musicales favoritos."
   ]
  },
  {
   "cell_type": "code",
   "execution_count": 22,
   "id": "721f56c9",
   "metadata": {
    "id": "721f56c9"
   },
   "outputs": [
    {
     "name": "stdout",
     "output_type": "stream",
     "text": [
      "['Hola mundo', ['Bangtan Seonyondan', 'Illit', True], 55, 0.5]\n"
     ]
    }
   ],
   "source": [
    "texto_1 = \"Hola mundo\"\n",
    "lista_a = [\"Bangtan Seonyondan\", \"Illit\", True]\n",
    "lista_1 = [texto_1, lista_a, 55, 0.5]\n",
    "print(lista_1)"
   ]
  },
  {
   "cell_type": "markdown",
   "id": "5e64d253",
   "metadata": {
    "id": "5e64d253"
   },
   "source": [
    "13. Tenemos la siguiente lista de cursos:"
   ]
  },
  {
   "cell_type": "code",
   "execution_count": 23,
   "id": "8011eabe",
   "metadata": {
    "id": "8011eabe"
   },
   "outputs": [
    {
     "name": "stdout",
     "output_type": "stream",
     "text": [
      "['Ciencia Politica', 'Economia', 'Antropologia', 'Sociologia', 'Relaciones Internacionales']\n"
     ]
    }
   ],
   "source": [
    "cursos = [\"Ciencia Politica\", \"Economia\", \"Antropologia\", \"Sociologia\", \"Relaciones Internacionales\"]\n",
    "print(cursos)"
   ]
  },
  {
   "cell_type": "markdown",
   "id": "df10d9ac",
   "metadata": {
    "id": "df10d9ac"
   },
   "source": [
    "Realiza las siguientes operaciones en bloques diferentes:\n",
    "- Calcula cuántos elementos tiene la lista."
   ]
  },
  {
   "cell_type": "code",
   "execution_count": 24,
   "id": "2610418e",
   "metadata": {
    "id": "2610418e"
   },
   "outputs": [
    {
     "data": {
      "text/plain": [
       "5"
      ]
     },
     "execution_count": 24,
     "metadata": {},
     "output_type": "execute_result"
    }
   ],
   "source": [
    "len(cursos)"
   ]
  },
  {
   "cell_type": "markdown",
   "id": "0e1e30ac",
   "metadata": {
    "id": "0e1e30ac"
   },
   "source": [
    "13.1. Agrega tres cursos adicionales de 3 formas diferentes (uno por forma):\n",
    "   - Suma (+) una lista que contenga un curso adicional.\n",
    "   - Usa el append.\n",
    "   - Usa el extend."
   ]
  },
  {
   "cell_type": "code",
   "execution_count": 25,
   "id": "dd9e9b9f",
   "metadata": {
    "id": "dd9e9b9f"
   },
   "outputs": [
    {
     "name": "stdout",
     "output_type": "stream",
     "text": [
      "['Ciencia Politica', 'Economia', 'Antropologia', 'Sociologia', 'Relaciones Internacionales', 'Finanzas']\n"
     ]
    }
   ],
   "source": [
    "cursos = [\"Ciencia Politica\", \"Economia\", \"Antropologia\", \"Sociologia\", \"Relaciones Internacionales\"]\n",
    "cursos = cursos + [\"Finanzas\"]\n",
    "print(cursos)\n"
   ]
  },
  {
   "cell_type": "code",
   "execution_count": 26,
   "id": "fea44126",
   "metadata": {},
   "outputs": [
    {
     "name": "stdout",
     "output_type": "stream",
     "text": [
      "['Ciencia Politica', 'Economia', 'Antropologia', 'Sociologia', 'Relaciones Internacionales', 'Derecho']\n"
     ]
    }
   ],
   "source": [
    "cursos = [\"Ciencia Politica\", \"Economia\", \"Antropologia\", \"Sociologia\", \"Relaciones Internacionales\"]\n",
    "cursos.append(\"Derecho\")\n",
    "print(cursos)"
   ]
  },
  {
   "cell_type": "code",
   "execution_count": 27,
   "id": "5012b828",
   "metadata": {},
   "outputs": [
    {
     "name": "stdout",
     "output_type": "stream",
     "text": [
      "['Ciencia Politica', 'Economia', 'Antropologia', 'Sociologia', 'Relaciones Internacionales', 'Arquitectura']\n"
     ]
    }
   ],
   "source": [
    "cursos = [\"Ciencia Politica\", \"Economia\", \"Antropologia\", \"Sociologia\", \"Relaciones Internacionales\"]\n",
    "cursos.extend([\"Arquitectura\"])\n",
    "print(cursos)"
   ]
  },
  {
   "cell_type": "markdown",
   "id": "42a424de",
   "metadata": {
    "id": "42a424de"
   },
   "source": [
    "13.2.\n",
    "- Usa la indexación para señalar a _Relaciones Internacionales_."
   ]
  },
  {
   "cell_type": "code",
   "execution_count": 28,
   "id": "a453c0fe",
   "metadata": {
    "id": "a453c0fe"
   },
   "outputs": [
    {
     "data": {
      "text/plain": [
       "'Relaciones Internacionales'"
      ]
     },
     "execution_count": 28,
     "metadata": {},
     "output_type": "execute_result"
    }
   ],
   "source": [
    "cursos[4]"
   ]
  },
  {
   "cell_type": "markdown",
   "id": "f842a7f3",
   "metadata": {
    "id": "f842a7f3"
   },
   "source": [
    "13.3.\n",
    "- Remueve el curso que menos te guste de la lista.\n"
   ]
  },
  {
   "cell_type": "code",
   "execution_count": 29,
   "id": "03d70f60",
   "metadata": {
    "id": "03d70f60"
   },
   "outputs": [
    {
     "name": "stdout",
     "output_type": "stream",
     "text": [
      "['Economia', 'Antropologia', 'Sociologia', 'Relaciones Internacionales']\n"
     ]
    }
   ],
   "source": [
    "cursos = [\"Ciencia Politica\", \"Economia\", \"Antropologia\", \"Sociologia\", \"Relaciones Internacionales\"]\n",
    "cursos.remove(\"Ciencia Politica\")\n",
    "print(cursos)"
   ]
  },
  {
   "cell_type": "markdown",
   "id": "f9952c8d",
   "metadata": {
    "id": "f9952c8d"
   },
   "source": [
    "14\n",
    "Tenemos los siguientes números: 22, 27, 74.2, 16.8, 125, 80, 100.\n",
    " - Crea una lista con ellos.\n",
    " - Ordena la lista de menor a mayor.\n",
    " - Saca el promedio de los números de la lista.  \n",
    "(Realiza cada uno en bloques separados)."
   ]
  },
  {
   "cell_type": "code",
   "execution_count": 30,
   "id": "f0eb206f",
   "metadata": {
    "id": "f0eb206f"
   },
   "outputs": [
    {
     "name": "stdout",
     "output_type": "stream",
     "text": [
      "[22, 27, 74.2, 16.8, 125, 80, 100]\n",
      "<class 'list'>\n"
     ]
    }
   ],
   "source": [
    "numeros=[22,27,74.2,16.8,125,80,100]\n",
    "print(numeros)\n",
    "print(type(numeros))"
   ]
  },
  {
   "cell_type": "code",
   "execution_count": 31,
   "id": "2a51858b",
   "metadata": {},
   "outputs": [
    {
     "name": "stdout",
     "output_type": "stream",
     "text": [
      "Lista ordenada: [16.8, 22, 27, 74.2, 80, 100, 125]\n"
     ]
    }
   ],
   "source": [
    "numeros_ordenados=sorted(numeros)\n",
    "print(\"Lista ordenada:\", numeros_ordenados)"
   ]
  },
  {
   "cell_type": "code",
   "execution_count": 32,
   "id": "0fbee6a4",
   "metadata": {},
   "outputs": [
    {
     "name": "stdout",
     "output_type": "stream",
     "text": [
      "Promedio: 63.57142857142857\n"
     ]
    }
   ],
   "source": [
    "promedio=sum(numeros)/len(numeros)\n",
    "print(\"Promedio:\", promedio)"
   ]
  },
  {
   "cell_type": "markdown",
   "id": "09559938",
   "metadata": {
    "id": "09559938"
   },
   "source": [
    "15.Utilizando un “if else” cree una estructura que evalúe “x” tal que:\n",
    "\n",
    "Si x es múltiplo de 2 imprima “Es múltiplo de 2”.\n",
    "\n",
    "Si x es múltiplo de 3 imprima “Es múltiplo de 3”\n",
    "\n",
    "Si x es múltiplo de 2 y 3 imprima “Es múltiplo de 2 y 3”\n",
    "\n",
    "Para otro caso, imprime “Otro caso”\n",
    "Muestra un ejemplo con x = 6.\n",
    "\n"
   ]
  },
  {
   "cell_type": "code",
   "execution_count": 33,
   "id": "97f32ab2",
   "metadata": {
    "id": "97f32ab2"
   },
   "outputs": [
    {
     "name": "stdout",
     "output_type": "stream",
     "text": [
      "Es múltiplo de 2 y 3\n"
     ]
    }
   ],
   "source": [
    "x = 6  # Se puede cambiar este valor para probar otros casos\n",
    "\n",
    "if x % 2 == 0 and x % 3 == 0:\n",
    "    print(\"Es múltiplo de 2 y 3\")\n",
    "elif x % 2 == 0:\n",
    "    print(\"Es múltiplo de 2\")\n",
    "elif x % 3 == 0:\n",
    "    print(\"Es múltiplo de 3\")\n",
    "else:\n",
    "    print(\"Otro caso\")"
   ]
  },
  {
   "cell_type": "markdown",
   "id": "ab0213b2",
   "metadata": {
    "id": "ab0213b2"
   },
   "source": [
    "16.Crea una función llamada clasificar_edad() que reciba como parámetro la edad de una\n",
    "persona. La función debe clasificar a la persona en una de las siguientes categorías:\n",
    "\n",
    "\"Niño\" si la edad es menor de 12 años.\n",
    "\n",
    "\"Adolescente\" si la edad está entre 12 y 17 años.\n",
    "\n",
    "“Joven” si la edad está entre 18 y 24 años.\n",
    "\n",
    "\"Adulto\" si la edad está entre 25 y 64 años.\n",
    "\n",
    "\"Adulto Mayor\" si la edad es mayor o igual a 65 años.\n",
    "\n",
    "La función debe devolver la categoría correspondiente. Prueba la función con las edades de\n",
    "10, 19, 25 y 70."
   ]
  },
  {
   "cell_type": "code",
   "execution_count": 34,
   "id": "7cdc55b3",
   "metadata": {
    "id": "7cdc55b3"
   },
   "outputs": [],
   "source": [
    "def clasificar_edad(edad):\n",
    "    if edad < 12:\n",
    "        return \"Niño\"\n",
    "    elif 12 <= edad <= 17:\n",
    "        return \"Adolescente\"\n",
    "    elif 18 <= edad <= 24:\n",
    "        return \"Joven\"\n",
    "    elif 25 <= edad <= 64:\n",
    "        return \"Adulto\"\n",
    "    else:\n",
    "        return \"Adulto Mayor\""
   ]
  },
  {
   "cell_type": "code",
   "execution_count": 35,
   "id": "e70d08fb",
   "metadata": {
    "id": "e70d08fb"
   },
   "outputs": [
    {
     "name": "stdout",
     "output_type": "stream",
     "text": [
      "Edad 10: Niño\n"
     ]
    }
   ],
   "source": [
    "print(\"Edad 10:\", clasificar_edad(10))"
   ]
  },
  {
   "cell_type": "code",
   "execution_count": 36,
   "id": "464dcfcb",
   "metadata": {
    "id": "464dcfcb"
   },
   "outputs": [
    {
     "name": "stdout",
     "output_type": "stream",
     "text": [
      "Edad 19: Joven\n",
      "Edad 25: Adulto\n"
     ]
    }
   ],
   "source": [
    "print(\"Edad 19:\", clasificar_edad(19))\n",
    "print(\"Edad 25:\", clasificar_edad(25))"
   ]
  },
  {
   "cell_type": "code",
   "execution_count": 37,
   "id": "9fc3cdc5",
   "metadata": {
    "id": "9fc3cdc5"
   },
   "outputs": [
    {
     "name": "stdout",
     "output_type": "stream",
     "text": [
      "Edad 70: Adulto Mayor\n"
     ]
    }
   ],
   "source": [
    "print(\"Edad 70:\", clasificar_edad(70))"
   ]
  }
 ],
 "metadata": {
  "colab": {
   "provenance": []
  },
  "kernelspec": {
   "display_name": ".venv",
   "language": "python",
   "name": "python3"
  },
  "language_info": {
   "codemirror_mode": {
    "name": "ipython",
    "version": 3
   },
   "file_extension": ".py",
   "mimetype": "text/x-python",
   "name": "python",
   "nbconvert_exporter": "python",
   "pygments_lexer": "ipython3",
   "version": "3.12.10"
  }
 },
 "nbformat": 4,
 "nbformat_minor": 5
}
