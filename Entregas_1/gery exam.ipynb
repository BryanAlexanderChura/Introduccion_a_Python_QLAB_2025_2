{
 "cells": [
  {
   "cell_type": "code",
   "execution_count": null,
   "id": "5e6615b5",
   "metadata": {},
   "outputs": [],
   "source": [
    "x=5"
   ]
  }
 ],
 "metadata": {
  "language_info": {
   "name": "python"
  }
 },
 "nbformat": 4,
 "nbformat_minor": 5
}
