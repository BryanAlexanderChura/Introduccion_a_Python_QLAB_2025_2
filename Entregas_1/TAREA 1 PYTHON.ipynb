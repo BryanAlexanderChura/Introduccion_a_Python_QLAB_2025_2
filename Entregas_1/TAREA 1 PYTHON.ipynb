{
 "cells": [
  {
   "cell_type": "markdown",
   "id": "2a44fd1e",
   "metadata": {
    "id": "2a44fd1e"
   },
   "source": [
    "# Tarea 1\n"
   ]
  },
  {
   "cell_type": "markdown",
   "id": "bdacefa6",
   "metadata": {
    "id": "bdacefa6"
   },
   "source": [
    "Fecha de entrega:\n",
    "Jueves 7 de agosto, 2025, 11:59pm\n",
    "\n",
    "Comentarios generales:\n",
    "\n",
    "- No olvidar que python usa el snake_case (o minúsculas separadas por subguión) para llamar a sus variables.\n",
    "- No nombrar variables con acentos porque algunas veces, dependiendo de la máquina en la que se corra, esto será aceptado o no.\n",
    "- Leer  claramente qué es lo que pide la pregunta.  \n",
    "   \n"
   ]
  },
  {
   "cell_type": "markdown",
   "id": "80152401",
   "metadata": {
    "id": "80152401"
   },
   "source": [
    "Ejemplo:  Utilizando sólo los siguientes inputs numéricos: ```5``` y ```2```  , maneje los operadores tal que el output sea ```120```. Crea una variable con el resultado."
   ]
  },
  {
   "cell_type": "code",
   "execution_count": null,
   "id": "7601a7f9",
   "metadata": {
    "id": "7601a7f9",
    "outputId": "60035514-deb5-4eaf-9c29-172e0bdeecf8"
   },
   "outputs": [
    {
     "name": "stdout",
     "output_type": "stream",
     "text": [
      "120\n"
     ]
    }
   ],
   "source": [
    "#Respuesta\n",
    "m = (5 * 2) * (5 + 7)\n",
    "\n",
    "\n",
    "print(m)"
   ]
  },
  {
   "cell_type": "markdown",
   "id": "a8018627",
   "metadata": {
    "id": "a8018627"
   },
   "source": [
    "1.  Utilizando sólo los siguientes inputs: ```5``` y ```2```  , maneje los operadores tal que el output sea ```100```"
   ]
  },
  {
   "cell_type": "code",
   "execution_count": 3,
   "id": "1f723e46",
   "metadata": {
    "id": "1f723e46"
   },
   "outputs": [
    {
     "name": "stdout",
     "output_type": "stream",
     "text": [
      "100\n"
     ]
    }
   ],
   "source": [
    "x = 5\n",
    "y = 2\n",
    "resultado1 = (x*y)*(x*y)\n",
    "print(resultado1)"
   ]
  },
  {
   "cell_type": "markdown",
   "id": "994dc4bc",
   "metadata": {
    "id": "994dc4bc"
   },
   "source": [
    "2. Evalúa que el output del ejemplo sea mayor al output de 1. Crea una variable con esta evaluación (Hint: Será un booleano)."
   ]
  },
  {
   "cell_type": "code",
   "execution_count": 4,
   "id": "b8928779",
   "metadata": {
    "id": "b8928779"
   },
   "outputs": [
    {
     "name": "stdout",
     "output_type": "stream",
     "text": [
      "True\n"
     ]
    }
   ],
   "source": [
    "output_ejercicio1 = (x*y)*(x*y) #100\n",
    "output_ejercicio2 = 145\n",
    "\n",
    "sera_mayor = output_ejercicio2 > output_ejercicio1\n",
    "print(sera_mayor)"
   ]
  },
  {
   "cell_type": "markdown",
   "id": "69918902",
   "metadata": {
    "id": "69918902"
   },
   "source": [
    "3. Utilizando sólo los siguientes inputs: ```51``` maneja los operadores tal que el output sea ```0```"
   ]
  },
  {
   "cell_type": "code",
   "execution_count": 5,
   "id": "4dcc2afa",
   "metadata": {
    "id": "4dcc2afa"
   },
   "outputs": [
    {
     "name": "stdout",
     "output_type": "stream",
     "text": [
      "0\n"
     ]
    }
   ],
   "source": [
    "num_disponible = 51\n",
    "resultado2 = num_disponible - num_disponible\n",
    "print(resultado2)"
   ]
  },
  {
   "cell_type": "markdown",
   "id": "97cf5786",
   "metadata": {
    "id": "97cf5786"
   },
   "source": [
    "4.  Utilizando sólo los siguientes inputs: ```2``` (todos los 2 que necesites) maneja los operadores tal que el output sea ```5```"
   ]
  },
  {
   "cell_type": "code",
   "execution_count": 6,
   "id": "418fdb47",
   "metadata": {
    "id": "418fdb47"
   },
   "outputs": [
    {
     "name": "stdout",
     "output_type": "stream",
     "text": [
      "5\n"
     ]
    }
   ],
   "source": [
    "num_disponible1 = 2\n",
    "resultado3 = (num_disponible1 + num_disponible1 + num_disponible1) - (num_disponible1 // num_disponible1)\n",
    "print(resultado3)"
   ]
  },
  {
   "cell_type": "markdown",
   "id": "178e7ec3",
   "metadata": {
    "id": "178e7ec3"
   },
   "source": [
    "5. Crea una variable ```x``` y una variable ```y``` que sumen 2500. Crea una variable ```v``` que dé un booleano, tal que evalúe que ```x + y``` sea igual a 2200."
   ]
  },
  {
   "cell_type": "code",
   "execution_count": 7,
   "id": "0e75e524",
   "metadata": {
    "id": "0e75e524"
   },
   "outputs": [
    {
     "name": "stdout",
     "output_type": "stream",
     "text": [
      "False\n"
     ]
    }
   ],
   "source": [
    "x1 = 2100\n",
    "y1 = 400\n",
    "v = (x1 + y1) == 2200\n",
    "print(v)"
   ]
  },
  {
   "cell_type": "markdown",
   "id": "163e5332",
   "metadata": {
    "id": "163e5332"
   },
   "source": [
    "6. Cree una variable ```z``` y una variable ```a``` que sumen 1000."
   ]
  },
  {
   "cell_type": "code",
   "execution_count": 8,
   "id": "846bea9d",
   "metadata": {
    "id": "846bea9d"
   },
   "outputs": [
    {
     "name": "stdout",
     "output_type": "stream",
     "text": [
      "1000\n"
     ]
    }
   ],
   "source": [
    "z = 10 * 20 + 7 * 10\n",
    "a = 1000 - z\n",
    "print(z + a)"
   ]
  },
  {
   "cell_type": "markdown",
   "id": "c222c968",
   "metadata": {
    "id": "c222c968"
   },
   "source": [
    "7. Calcula cuántas horas trabajan en total los 130 congresistas de nuestro país en un año. Asume que trabajan 40 horas a la semana, por 48 semanas al año (considerando que tienen vacaciones y no trabajan sobretiempo)."
   ]
  },
  {
   "cell_type": "code",
   "execution_count": 21,
   "id": "5deb8908",
   "metadata": {
    "id": "5deb8908"
   },
   "outputs": [
    {
     "name": "stdout",
     "output_type": "stream",
     "text": [
      "249600\n"
     ]
    }
   ],
   "source": [
    "# numero de congresistas = 130\n",
    "# horas semanales trabajadas = 40\n",
    "# numero de semanas al año trabajadas = 48\n",
    "num_congresistas = 130\n",
    "horas_semanales = 40\n",
    "numero_semanas = 48\n",
    "\n",
    "resultado_horas_trabajadas = (num_congresistas * horas_semanales * numero_semanas)\n",
    "print(resultado_horas_trabajadas)"
   ]
  },
  {
   "cell_type": "markdown",
   "id": "80e32ec2",
   "metadata": {
    "id": "80e32ec2"
   },
   "source": [
    "8. Ahora calcula el salario de un congresista por hora. Los supuestos del anterior ejercicio se mantienen (Se puede pasar por alto las vacaciones). Cabe recordar que los congresistas ganan 15,600 soles mensuales.   \n",
    "- Crea una variable para el salario por hora de un congresista.   \n",
    "- Crea una variable para la suma de los salarios por hora de los 130 congresistas.\n"
   ]
  },
  {
   "cell_type": "code",
   "execution_count": 20,
   "id": "6d98f342",
   "metadata": {
    "id": "6d98f342"
   },
   "outputs": [
    {
     "name": "stdout",
     "output_type": "stream",
     "text": [
      "El salario por hora de un congresista es: 97.50 soles/hora\n",
      "La suma de los salarios por hora de los congresistas es: 12675.00 soles/hora\n"
     ]
    }
   ],
   "source": [
    "salario_congresistas = 15600\n",
    "num_congresistas = 130\n",
    "horas_semanales = 40\n",
    "numero_semanas = 48\n",
    "\n",
    "horas_anuales = horas_semanales * numero_semanas\n",
    "salario_porhora = (salario_congresistas * 12) / horas_anuales\n",
    "\n",
    "suma_salarios_hora = salario_porhora * num_congresistas\n",
    "\n",
    "print(f\"El salario por hora de un congresista es: {salario_porhora:.2f} soles/hora\")\n",
    "print(f\"La suma de los salarios por hora de los congresistas es: {suma_salarios_hora:.2f} soles/hora\")\n"
   ]
  },
  {
   "cell_type": "markdown",
   "id": "ae512853",
   "metadata": {
    "id": "ae512853"
   },
   "source": [
    "9. Con la reducción del IGV para restaurantes y hoteles (https://emprender.sunat.gob.pe/tributando/temas-actualidad/reduccion-igv-para-restaurantes-hoteles), los restaurantes pagan el 10% de IGV. Un restaurante factura 3426 soles diarios, en promedio, después de impuestos. Calcule el valor base (el IGV es 10% sobre el valor base, ó 1 + .1).\n",
    "\n",
    "Calcule, utilizando el valor base, cuánto es el descuento del IGV en soles (o el 8% de este valor base).\n",
    "\n",
    "Cree una variable para cada uno de los siguientes:\n",
    "- porcentaje de IGV\n",
    "- el total de facturación\n",
    "- el monto del impuesto\n",
    "- el valor base sin impuesto\n",
    "- el descuento de IGV en soles. Puedes comprobar tu fórmula con cualquier recibo de pago que detalle el IGV."
   ]
  },
  {
   "cell_type": "code",
   "execution_count": 44,
   "id": "e5ba643e",
   "metadata": {},
   "outputs": [
    {
     "name": "stdout",
     "output_type": "stream",
     "text": [
      "El total de la facturación es: 3806.666666666667\n",
      "El impuesto es: 380.66666666666697\n",
      "El valor base sin impuesto es: S/ 3114.55\n",
      "El monto del IGV (10%) es: S/ 311.45\n",
      "El descuento por tasa reducida (8% del valor base) es: S/ 249.16\n"
     ]
    }
   ],
   "source": [
    "facturacion = 3426\n",
    "total = 1/0.9*facturacion\n",
    "print(\"El total de la facturación es:\", total)\n",
    "\n",
    "impuesto = total - facturacion\n",
    "print(\"El impuesto es:\", impuesto)\n",
    "\n",
    "porcentaje_igv = 0.10  \n",
    "total_facturado = 3426  \n",
    "\n",
    "valor_base = total_facturado / (1 + porcentaje_igv)\n",
    "\n",
    "monto_impuesto = valor_base * porcentaje_igv\n",
    "\n",
    "descuento_igv = valor_base * 0.08  \n",
    "\n",
    "print(f\"El valor base sin impuesto es: S/ {valor_base:.2f}\")\n",
    "print(f\"El monto del IGV (10%) es: S/ {monto_impuesto:.2f}\")\n",
    "print(f\"El descuento por tasa reducida (8% del valor base) es: S/ {descuento_igv:.2f}\")"
   ]
  },
  {
   "cell_type": "markdown",
   "id": "69f6e4f9",
   "metadata": {
    "id": "69f6e4f9"
   },
   "source": [
    "10.  Cristina percibe el sueldo mínimo (1130 soles). Compruebe que el salario anual de Cristina es menor al salario anual de un congresista, usando operadores de comparación y una expresión que detalle el monto mensual y el número de meses trabajados de ambos. La comparación debe ser ser evaluada a un booleano"
   ]
  },
  {
   "cell_type": "code",
   "execution_count": 19,
   "id": "cc09bc62",
   "metadata": {
    "id": "cc09bc62"
   },
   "outputs": [
    {
     "name": "stdout",
     "output_type": "stream",
     "text": [
      "El salario anual de Cristina es: S/ 13,560\n",
      "El salario anual de un congresista es: S/ 187,200\n",
      "¿Cristina gana menos que un congresista? True\n"
     ]
    }
   ],
   "source": [
    "sueldo_cristinamensual = 1130 #sueldo minimo\n",
    "meses_trabajocristina = 12\n",
    "salario_anualcristina = sueldo_cristinamensual * meses_trabajocristina # S/ 13,560\n",
    "\n",
    "salario_congresistas = 15600\n",
    "meses_trabajocongresista = 12\n",
    "salario_anualcongresista = salario_congresistas * meses_trabajocongresista # S/ 187,200\n",
    "\n",
    "resultado4 = salario_anualcongresista > salario_anualcristina\n",
    "\n",
    "print(f\"El salario anual de Cristina es: S/ {salario_anualcristina:,}\")\n",
    "print(f\"El salario anual de un congresista es: S/ {salario_anualcongresista:,}\")\n",
    "print(f\"¿Cristina gana menos que un congresista? {resultado4}\")"
   ]
  },
  {
   "cell_type": "markdown",
   "id": "37de8248",
   "metadata": {
    "id": "37de8248"
   },
   "source": [
    "11. Una conocida petrolera debe volver a compensar a  1023 familias que se dedican a la pesca por la contaminación causada en el mar donde pescan. El nuevo monto negociado es de 1200 millones de soles, sin embargo, una cláusula del contrato dice que el monto de compensación tiene que ser un número entero. ¿Cuántos soles adicionales se le  tiene  que agregar al monto negociado para que las familias reciban una cantidad entera,  asumiendo que para lograr este número entero, hay que elevar el monto total? (Pista: Acuérdate del  floor y el módulo)."
   ]
  },
  {
   "cell_type": "code",
   "execution_count": 39,
   "id": "948141a9",
   "metadata": {
    "id": "948141a9"
   },
   "outputs": [
    {
     "name": "stdout",
     "output_type": "stream",
     "text": [
      "esta es la compensación inicial a las familias afectadas: 1173020.5278592375 en millones de soles\n",
      "compensacion por familia en enteros sería: 1173020\n",
      "este sería el dinero que deber recibir cada familia 540\n",
      "representa la cantidad decimal a recibir por cada familia 0.5278592375366569\n",
      "El valor adicional que se debe agregar al monto negociado es: 483.0 millones de soles\n"
     ]
    }
   ],
   "source": [
    "familia_compe = 1023\n",
    "nuevo_negocio = 1200000000\n",
    "compensacion = nuevo_negocio/familia_compe\n",
    "print(\"esta es la compensación inicial a las familias afectadas:\", compensacion, \"en millones de soles\")\n",
    "#el monto de compensación debe ser un número entero\n",
    "print(\"compensacion por familia en enteros sería:\",int(compensacion))\n",
    "#resta de decimal y entero\n",
    "resta = nuevo_negocio % 1023\n",
    "print(\"este sería el dinero que deber recibir cada familia\", resta)\n",
    "decimal = resta/1023\n",
    "print(\"representa la cantidad decimal a recibir por cada familia\", decimal)\n",
    "#haciendo que esto sea entero\n",
    "entero = 1-decimal\n",
    "\n",
    "#ahora el valor que le tiene que adicionar a los 1200 millones \n",
    "valor_adicional = entero * 1023\n",
    "print(f\"El valor adicional que se debe agregar al monto negociado es: {valor_adicional} millones de soles\")\n",
    "\n",
    "\n",
    "\n"
   ]
  },
  {
   "cell_type": "markdown",
   "id": "75a0de8e",
   "metadata": {
    "id": "75a0de8e"
   },
   "source": [
    "12. Crea una variable igual a una lista que contenga:\n",
    "- un string,\n",
    "- un booleano,\n",
    "- dos valores numéricos (de cualquier tipo) y\n",
    "- una lista de dos strings con el nombre de tus artistas musicales favoritos."
   ]
  },
  {
   "cell_type": "code",
   "execution_count": 73,
   "id": "721f56c9",
   "metadata": {
    "id": "721f56c9"
   },
   "outputs": [
    {
     "name": "stdout",
     "output_type": "stream",
     "text": [
      "Contenido de la lista:\n",
      "['Peru si ira al mundial', True, 777, 9.12, ['Laufey', 'Anuel']]\n",
      "\n",
      "Tipos de cada elemento:\n",
      "Peru si ira al mundial -> str\n",
      "True -> bool\n",
      "777 -> int\n",
      "9.12 -> float\n",
      "['Laufey', 'Anuel'] -> list\n"
     ]
    }
   ],
   "source": [
    "mi_lista = [\n",
    "    \"Peru si ira al mundial\",      \n",
    "    2025 > 2005,                      \n",
    "    777,                        \n",
    "    9.12,                      \n",
    "    [\"Laufey\", \"Anuel\"]  \n",
    "]\n",
    "\n",
    "print(\"Contenido de la lista:\")\n",
    "print(mi_lista)\n",
    "print(\"\\nTipos de cada elemento:\")\n",
    "for elemento in mi_lista:\n",
    "    print(f\"{elemento} -> {type(elemento).__name__}\")"
   ]
  },
  {
   "cell_type": "markdown",
   "id": "5e64d253",
   "metadata": {
    "id": "5e64d253"
   },
   "source": [
    "13. Tenemos la siguiente lista de cursos:"
   ]
  },
  {
   "cell_type": "code",
   "execution_count": 83,
   "id": "8011eabe",
   "metadata": {
    "id": "8011eabe"
   },
   "outputs": [],
   "source": [
    "cursos = [\"Ciencia Politica\", \"Economia\", \"Antropologia\", \"Sociologia\", \"Relaciones Internacionales\"]\n"
   ]
  },
  {
   "cell_type": "markdown",
   "id": "df10d9ac",
   "metadata": {
    "id": "df10d9ac"
   },
   "source": [
    "Realiza las siguientes operaciones en bloques diferentes:\n",
    "- Calcula cuántos elementos tiene la lista."
   ]
  },
  {
   "cell_type": "code",
   "execution_count": 84,
   "id": "2610418e",
   "metadata": {
    "id": "2610418e"
   },
   "outputs": [
    {
     "name": "stdout",
     "output_type": "stream",
     "text": [
      "5\n"
     ]
    }
   ],
   "source": [
    "num_elementos = len(cursos)\n",
    "print(num_elementos)"
   ]
  },
  {
   "cell_type": "markdown",
   "id": "0e1e30ac",
   "metadata": {
    "id": "0e1e30ac"
   },
   "source": [
    "13.1. Agrega tres cursos adicionales de 3 formas diferentes (uno por forma):\n",
    "   - Suma (+) una lista que contenga un curso adicional.\n",
    "   - Usa el append.\n",
    "   - Usa el extend."
   ]
  },
  {
   "cell_type": "code",
   "execution_count": 85,
   "id": "dd9e9b9f",
   "metadata": {
    "id": "dd9e9b9f"
   },
   "outputs": [
    {
     "name": "stdout",
     "output_type": "stream",
     "text": [
      "Los cursos ahora son: ['Ciencia Politica', 'Economia', 'Antropologia', 'Sociologia', 'Relaciones Internacionales', 'Finanzas']\n"
     ]
    }
   ],
   "source": [
    "cursos = cursos + [\"Finanzas\"]\n",
    "print(\"Los cursos ahora son:\", cursos)"
   ]
  },
  {
   "cell_type": "code",
   "execution_count": 86,
   "id": "9725dcde",
   "metadata": {},
   "outputs": [
    {
     "name": "stdout",
     "output_type": "stream",
     "text": [
      "Después de usar 'append': ['Ciencia Politica', 'Economia', 'Antropologia', 'Sociologia', 'Relaciones Internacionales', 'Finanzas', 'Comunica']\n"
     ]
    }
   ],
   "source": [
    "cursos.append(\"Comunica\")\n",
    "print(\"Después de usar 'append':\", cursos)"
   ]
  },
  {
   "cell_type": "code",
   "execution_count": 87,
   "id": "fcef7c4e",
   "metadata": {},
   "outputs": [
    {
     "name": "stdout",
     "output_type": "stream",
     "text": [
      "Después de usar 'extend': ['Ciencia Politica', 'Economia', 'Antropologia', 'Sociologia', 'Relaciones Internacionales', 'Finanzas', 'Comunica', 'Gastronomia']\n"
     ]
    }
   ],
   "source": [
    "cursos.extend([\"Gastronomia\"])\n",
    "print(\"Después de usar 'extend':\", cursos)"
   ]
  },
  {
   "cell_type": "markdown",
   "id": "42a424de",
   "metadata": {
    "id": "42a424de"
   },
   "source": [
    "13.2.\n",
    "- Usa la indexación para señalar a _Relaciones Internacionales_."
   ]
  },
  {
   "cell_type": "code",
   "execution_count": 80,
   "id": "a453c0fe",
   "metadata": {
    "id": "a453c0fe"
   },
   "outputs": [
    {
     "name": "stdout",
     "output_type": "stream",
     "text": [
      "El índice de 'Relaciones Internacionales' es: 4\n"
     ]
    }
   ],
   "source": [
    "indice_cursos = cursos.index(\"Relaciones Internacionales\")\n",
    "print(f\"El índice de 'Relaciones Internacionales' es: {indice_cursos}\")"
   ]
  },
  {
   "cell_type": "markdown",
   "id": "f842a7f3",
   "metadata": {
    "id": "f842a7f3"
   },
   "source": [
    "13.3.\n",
    "- Remueve el curso que menos te guste de la lista.\n"
   ]
  },
  {
   "cell_type": "code",
   "execution_count": 81,
   "id": "03d70f60",
   "metadata": {
    "id": "03d70f60"
   },
   "outputs": [
    {
     "name": "stdout",
     "output_type": "stream",
     "text": [
      "El índice de 'Antropologia' es: 2\n"
     ]
    }
   ],
   "source": [
    "indice_cursos = cursos.index(\"Antropologia\")\n",
    "print(f\"El índice de 'Antropologia' es: {indice_cursos}\")"
   ]
  },
  {
   "cell_type": "code",
   "execution_count": 82,
   "id": "b13b6462",
   "metadata": {},
   "outputs": [
    {
     "name": "stdout",
     "output_type": "stream",
     "text": [
      "Lista final: ['Ciencia Politica', 'Economia', 'Sociologia', 'Relaciones Internacionales', 'Finanzas', 'Comunica', 'Gastronomia']\n"
     ]
    }
   ],
   "source": [
    "del cursos[2] #Antropologia\n",
    "print(\"Lista final:\", cursos)"
   ]
  },
  {
   "cell_type": "markdown",
   "id": "f9952c8d",
   "metadata": {
    "id": "f9952c8d"
   },
   "source": [
    "14\n",
    "Tenemos los siguientes números: 22, 27, 74.2, 16.8, 125, 80, 100.\n",
    " - Crea una lista con ellos.\n",
    " - Ordena la lista de menor a mayor.\n",
    " - Saca el promedio de los números de la lista.  \n",
    "(Realiza cada uno en bloques separados)."
   ]
  },
  {
   "cell_type": "code",
   "execution_count": 89,
   "id": "f0eb206f",
   "metadata": {
    "id": "f0eb206f"
   },
   "outputs": [
    {
     "name": "stdout",
     "output_type": "stream",
     "text": [
      "La lista creada es: [22, 27, 74.2, 16.8, 125, 80, 100]\n"
     ]
    }
   ],
   "source": [
    "numeros_lista = [22, 27, 74.2, 16.8, 125, 80, 100]\n",
    "print(\"La lista creada es:\", numeros_lista)"
   ]
  },
  {
   "cell_type": "code",
   "execution_count": 90,
   "id": "1733e080",
   "metadata": {},
   "outputs": [
    {
     "name": "stdout",
     "output_type": "stream",
     "text": [
      "La lista ordenada se ve asi: [16.8, 22, 27, 74.2, 80, 100, 125]\n"
     ]
    }
   ],
   "source": [
    "numeros_lista.sort()  \n",
    "print(\"La lista ordenada se ve asi:\", numeros_lista)"
   ]
  },
  {
   "cell_type": "code",
   "execution_count": 91,
   "id": "c863b822",
   "metadata": {},
   "outputs": [
    {
     "name": "stdout",
     "output_type": "stream",
     "text": [
      "El promedio es: 63.5714\n"
     ]
    }
   ],
   "source": [
    "promedio_obtenido = sum(numeros_lista) / len(numeros_lista)\n",
    "print(f\"El promedio es: {promedio_obtenido:.4f}\")  "
   ]
  },
  {
   "cell_type": "markdown",
   "id": "09559938",
   "metadata": {
    "id": "09559938"
   },
   "source": [
    "15.Utilizando un “if else” cree una estructura que evalúe “x” tal que:\n",
    "\n",
    "Si x es múltiplo de 2 imprima “Es múltiplo de 2”.\n",
    "\n",
    "Si x es múltiplo de 3 imprima “Es múltiplo de 3”\n",
    "\n",
    "Si x es múltiplo de 2 y 3 imprima “Es múltiplo de 2 y 3”\n",
    "\n",
    "Para otro caso, imprime “Otro caso”\n",
    "Muestra un ejemplo con x = 6.\n",
    "\n"
   ]
  },
  {
   "cell_type": "code",
   "execution_count": 88,
   "id": "97f32ab2",
   "metadata": {
    "id": "97f32ab2"
   },
   "outputs": [
    {
     "name": "stdout",
     "output_type": "stream",
     "text": [
      "Es múltiplo de 2 y 3\n"
     ]
    }
   ],
   "source": [
    "x_ejemplo = 6 \n",
    "\n",
    "if x_ejemplo % 2 == 0 and x_ejemplo % 3 == 0:  \n",
    "    print(\"Es múltiplo de 2 y 3\")\n",
    "elif x_ejemplo % 2 == 0:  \n",
    "    print(\"Es múltiplo de 2\")\n",
    "elif x_ejemplo % 3 == 0:  \n",
    "    print(\"Es múltiplo de 3\")\n",
    "else:  \n",
    "    print(\"Otro caso\")"
   ]
  },
  {
   "cell_type": "markdown",
   "id": "ab0213b2",
   "metadata": {
    "id": "ab0213b2"
   },
   "source": [
    "16.Crea una función llamada clasificar_edad() que reciba como parámetro la edad de una\n",
    "persona. La función debe clasificar a la persona en una de las siguientes categorías:\n",
    "\n",
    "\"Niño\" si la edad es menor de 12 años.\n",
    "\n",
    "\"Adolescente\" si la edad está entre 12 y 17 años.\n",
    "\n",
    "“Joven” si la edad está entre 18 y 24 años.\n",
    "\n",
    "\"Adulto\" si la edad está entre 25 y 64 años.\n",
    "\n",
    "\"Adulto Mayor\" si la edad es mayor o igual a 65 años.\n",
    "\n",
    "La función debe devolver la categoría correspondiente. Prueba la función con las edades de\n",
    "10, 19, 25 y 70."
   ]
  },
  {
   "cell_type": "code",
   "execution_count": 93,
   "id": "7cdc55b3",
   "metadata": {
    "id": "7cdc55b3"
   },
   "outputs": [],
   "source": [
    "def clasificar_edad(edad):\n",
    "    if edad < 12:\n",
    "        return \"Niño\"\n",
    "    elif 12 <= edad <= 17:\n",
    "        return \"Adolescente\"\n",
    "    elif 18 <= edad <= 24:\n",
    "        return \"Joven\"\n",
    "    elif 25 <= edad <= 64:\n",
    "        return \"Adulto\"\n",
    "    else:\n",
    "        return \"Adulto Mayor\""
   ]
  },
  {
   "cell_type": "code",
   "execution_count": 94,
   "id": "17da2152",
   "metadata": {},
   "outputs": [
    {
     "name": "stdout",
     "output_type": "stream",
     "text": [
      "Edad: 10. Entonces es un Niño\n"
     ]
    }
   ],
   "source": [
    "edad_persona1 = 10\n",
    "print(f\"Edad: {edad_persona1}. Entonces es un {clasificar_edad(edad_persona1)}\")"
   ]
  },
  {
   "cell_type": "code",
   "execution_count": 95,
   "id": "e70d08fb",
   "metadata": {
    "id": "e70d08fb"
   },
   "outputs": [
    {
     "name": "stdout",
     "output_type": "stream",
     "text": [
      "Edad: 19. Entonces es un Joven\n"
     ]
    }
   ],
   "source": [
    "edad_persona2 = 19\n",
    "print(f\"Edad: {edad_persona2}. Entonces es un {clasificar_edad(edad_persona2)}\")"
   ]
  },
  {
   "cell_type": "code",
   "execution_count": 96,
   "id": "464dcfcb",
   "metadata": {
    "id": "464dcfcb"
   },
   "outputs": [
    {
     "name": "stdout",
     "output_type": "stream",
     "text": [
      "Edad: 25. Entonces es un Adulto\n"
     ]
    }
   ],
   "source": [
    "edad_persona3 = 25\n",
    "print(f\"Edad: {edad_persona3}. Entonces es un {clasificar_edad(edad_persona3)}\")"
   ]
  },
  {
   "cell_type": "code",
   "execution_count": 97,
   "id": "9fc3cdc5",
   "metadata": {
    "id": "9fc3cdc5"
   },
   "outputs": [
    {
     "name": "stdout",
     "output_type": "stream",
     "text": [
      "Edad: 70. Entonces es un Adulto Mayor\n"
     ]
    }
   ],
   "source": [
    "edad_persona4 = 70\n",
    "print(f\"Edad: {edad_persona4}. Entonces es un {clasificar_edad(edad_persona4)}\")"
   ]
  }
 ],
 "metadata": {
  "colab": {
   "provenance": []
  },
  "kernelspec": {
   "display_name": ".venv",
   "language": "python",
   "name": "python3"
  },
  "language_info": {
   "codemirror_mode": {
    "name": "ipython",
    "version": 3
   },
   "file_extension": ".py",
   "mimetype": "text/x-python",
   "name": "python",
   "nbconvert_exporter": "python",
   "pygments_lexer": "ipython3",
   "version": "3.12.10"
  }
 },
 "nbformat": 4,
 "nbformat_minor": 5
}
