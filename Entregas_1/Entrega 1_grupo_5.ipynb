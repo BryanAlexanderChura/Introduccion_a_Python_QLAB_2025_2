{
 "cells": [
  {
   "cell_type": "markdown",
   "id": "2a44fd1e",
   "metadata": {
    "id": "2a44fd1e"
   },
   "source": [
    "# Tarea 1\n"
   ]
  },
  {
   "cell_type": "markdown",
   "id": "0a0906bb",
   "metadata": {},
   "source": [
    "**Integrante : Marco Antonio Pascual Chavez Huiza** \n",
    "\n",
    "**Códio : 20234163**\n",
    "\n",
    "**Grupo N° : 5**"
   ]
  },
  {
   "cell_type": "markdown",
   "id": "bdacefa6",
   "metadata": {
    "id": "bdacefa6"
   },
   "source": [
    "Fecha de entrega:\n",
    "Jueves 7 de agosto, 2025, 11:59pm\n",
    "\n",
    "Comentarios generales:\n",
    "\n",
    "- No olvidar que python usa el snake_case (o minúsculas separadas por subguión) para llamar a sus variables.\n",
    "- No nombrar variables con acentos porque algunas veces, dependiendo de la máquina en la que se corra, esto será aceptado o no.\n",
    "- Leer  claramente qué es lo que pide la pregunta.  \n",
    "   \n"
   ]
  },
  {
   "cell_type": "markdown",
   "id": "80152401",
   "metadata": {
    "id": "80152401"
   },
   "source": [
    "Ejemplo:  Utilizando sólo los siguientes inputs numéricos: ```5``` y ```2```  , maneje los operadores tal que el output sea ```120```. Crea una variable con el resultado."
   ]
  },
  {
   "cell_type": "code",
   "execution_count": 1,
   "id": "7601a7f9",
   "metadata": {
    "id": "7601a7f9",
    "outputId": "60035514-deb5-4eaf-9c29-172e0bdeecf8"
   },
   "outputs": [
    {
     "name": "stdout",
     "output_type": "stream",
     "text": [
      "120\n"
     ]
    }
   ],
   "source": [
    "#Respuesta\n",
    "resultado1=((5**2)*5) - 5\n",
    "print(resultado1)"
   ]
  },
  {
   "cell_type": "markdown",
   "id": "a8018627",
   "metadata": {
    "id": "a8018627"
   },
   "source": [
    "1.  Utilizando sólo los siguientes inputs: ```5``` y ```2```  , maneje los operadores tal que el output sea ```100```"
   ]
  },
  {
   "cell_type": "code",
   "execution_count": 2,
   "id": "1f723e46",
   "metadata": {
    "id": "1f723e46"
   },
   "outputs": [
    {
     "name": "stdout",
     "output_type": "stream",
     "text": [
      "100\n"
     ]
    }
   ],
   "source": [
    "resultado2=(5*2)**2\n",
    "print(resultado2)"
   ]
  },
  {
   "cell_type": "markdown",
   "id": "994dc4bc",
   "metadata": {
    "id": "994dc4bc"
   },
   "source": [
    "2. Evalúa que el output del ejemplo sea mayor al output de 1. Crea una variable con esta evaluación (Hint: Será un booleano)."
   ]
  },
  {
   "cell_type": "code",
   "execution_count": 3,
   "id": "b8928779",
   "metadata": {
    "id": "b8928779"
   },
   "outputs": [
    {
     "name": "stdout",
     "output_type": "stream",
     "text": [
      "True\n"
     ]
    }
   ],
   "source": [
    "resultado3=resultado1>resultado2\n",
    "print(resultado3)"
   ]
  },
  {
   "cell_type": "markdown",
   "id": "69918902",
   "metadata": {
    "id": "69918902"
   },
   "source": [
    "3. Utilizando sólo los siguientes inputs: ```5 y 1``` maneja los operadores tal que el output sea ```0```"
   ]
  },
  {
   "cell_type": "code",
   "execution_count": 4,
   "id": "4dcc2afa",
   "metadata": {
    "id": "4dcc2afa"
   },
   "outputs": [
    {
     "name": "stdout",
     "output_type": "stream",
     "text": [
      "0\n"
     ]
    }
   ],
   "source": [
    "resultado4=1//5\n",
    "print(resultado4)"
   ]
  },
  {
   "cell_type": "markdown",
   "id": "97cf5786",
   "metadata": {
    "id": "97cf5786"
   },
   "source": [
    "4.  Utilizando sólo los siguientes inputs: ```2``` (todos los 2 que necesites) maneja los operadores tal que el output sea ```5```"
   ]
  },
  {
   "cell_type": "code",
   "execution_count": 5,
   "id": "418fdb47",
   "metadata": {
    "id": "418fdb47"
   },
   "outputs": [
    {
     "name": "stdout",
     "output_type": "stream",
     "text": [
      "5\n"
     ]
    }
   ],
   "source": [
    "resultado5=int((2**2)+(2/2))\n",
    "print(resultado5)"
   ]
  },
  {
   "cell_type": "markdown",
   "id": "178e7ec3",
   "metadata": {
    "id": "178e7ec3"
   },
   "source": [
    "5. Crea una variable ```x``` y una variable ```y``` que sumen 2500. Crea una variable ```v``` que dé un booleano, tal que evalúe que ```x + y``` sea igual a 2200."
   ]
  },
  {
   "cell_type": "code",
   "execution_count": 6,
   "id": "0e75e524",
   "metadata": {
    "id": "0e75e524"
   },
   "outputs": [
    {
     "name": "stdout",
     "output_type": "stream",
     "text": [
      "2500\n",
      "False\n"
     ]
    }
   ],
   "source": [
    "x=1300\n",
    "y=1200\n",
    "suma=x+y\n",
    "print(suma)\n",
    "v=suma==2200\n",
    "print(v)\n"
   ]
  },
  {
   "cell_type": "markdown",
   "id": "163e5332",
   "metadata": {
    "id": "163e5332"
   },
   "source": [
    "6. Cree una variable ```z``` y una variable ```a``` que sumen 1000."
   ]
  },
  {
   "cell_type": "code",
   "execution_count": 7,
   "id": "846bea9d",
   "metadata": {
    "id": "846bea9d"
   },
   "outputs": [
    {
     "name": "stdout",
     "output_type": "stream",
     "text": [
      "1000\n"
     ]
    }
   ],
   "source": [
    "z=900\n",
    "a=100\n",
    "suma=z+a\n",
    "print(suma)"
   ]
  },
  {
   "cell_type": "markdown",
   "id": "c222c968",
   "metadata": {
    "id": "c222c968"
   },
   "source": [
    "7. Calcula cuántas horas trabajan en total los 130 congresistas de nuestro país en un año. Asume que trabajan 40 horas a la semana, por 48 semanas al año (considerando que tienen vacaciones y no trabajan sobretiempo)."
   ]
  },
  {
   "cell_type": "code",
   "execution_count": 8,
   "id": "5deb8908",
   "metadata": {
    "id": "5deb8908"
   },
   "outputs": [
    {
     "name": "stdout",
     "output_type": "stream",
     "text": [
      "El total de horas trabajados por lo 130 congresistas al año son:  249600\n"
     ]
    }
   ],
   "source": [
    "congresistas=130\n",
    "semanas_año=48\n",
    "horasXsemana=40\n",
    "HorasTotal=congresistas*semanas_año*horasXsemana\n",
    "print('El total de horas trabajados por lo 130 congresistas al año son: ',HorasTotal)"
   ]
  },
  {
   "cell_type": "markdown",
   "id": "80e32ec2",
   "metadata": {
    "id": "80e32ec2"
   },
   "source": [
    "8. Ahora calcula el salario de un congresista por hora. Los supuestos del anterior ejercicio se mantienen (Se puede pasar por alto las vacaciones). Cabe recordar que los congresistas ganan 15,600 soles mensuales.   \n",
    "- Crea una variable para el salario por hora de un congresista.   \n",
    "- Crea una variable para la suma de los salarios por hora de los 130 congresistas.\n"
   ]
  },
  {
   "cell_type": "code",
   "execution_count": 9,
   "id": "6d98f342",
   "metadata": {
    "id": "6d98f342"
   },
   "outputs": [
    {
     "name": "stdout",
     "output_type": "stream",
     "text": [
      "Número de semanas por cada mes:  4 semanas\n",
      "El total de horas trabajadas de cada congresista por mes es de:  160 horas\n",
      "El salario de un congresista por hora es de:  97.5 soles\n",
      "El salario por hora del total de 130 congresitas es de:  12675.0 soles\n"
     ]
    }
   ],
   "source": [
    "mesesXaño=12\n",
    "semanas_año=48\n",
    "horasXsemana=40\n",
    "#Calculamos el número de semanas por mes\n",
    "semanasXmes=int(semanas_año/mesesXaño)\n",
    "print(\"Número de semanas por cada mes: \", semanasXmes, \"semanas\")\n",
    "#Calculamos el total de horas por mes\n",
    "Total_hora_mes=semanasXmes*horasXsemana\n",
    "print(\"El total de horas trabajadas de cada congresista por mes es de: \",Total_hora_mes, \"horas\")\n",
    "#Calculamos el salario por hora:\n",
    "salario=15600 #salario por mes\n",
    "salarioXhora=salario/Total_hora_mes\n",
    "print(\"El salario de un congresista por hora es de: \", salarioXhora, \"soles\")\n",
    "\n",
    "#Salario total de 130 congresistas por hora.\n",
    "numero_congresistas=130\n",
    "salario_total=numero_congresistas*salarioXhora\n",
    "print(\"El salario por hora del total de 130 congresitas es de: \",salario_total, \"soles\" )"
   ]
  },
  {
   "cell_type": "markdown",
   "id": "ae512853",
   "metadata": {
    "id": "ae512853"
   },
   "source": [
    "9. Con la reducción del IGV para restaurantes y hoteles (https://emprender.sunat.gob.pe/tributando/temas-actualidad/reduccion-igv-para-restaurantes-hoteles), los restaurantes pagan el 10% de IGV. Un restaurante factura 3426 soles diarios, en promedio, después de impuestos. Calcule el valor base (el IGV es 10% sobre el valor base, ó 1 + .1).\n",
    "\n",
    "Calcule, utilizando el valor base, cuánto es el descuento del IGV en soles (o el 8% de este valor base).\n",
    "\n",
    "Cree una variable para cada uno de los siguientes:\n",
    "- porcentaje de IGV\n",
    "- el total de facturación\n",
    "- el monto del impuesto\n",
    "- el valor base sin impuesto\n",
    "- el descuento de IGV en soles. Puedes comprobar tu fórmula con cualquier recibo de pago que detalle el IGV."
   ]
  },
  {
   "cell_type": "code",
   "execution_count": 10,
   "id": "51599f11",
   "metadata": {
    "id": "51599f11"
   },
   "outputs": [
    {
     "name": "stdout",
     "output_type": "stream",
     "text": [
      "Ingresos promedio diario despues de impuestos:  3426 soles\n",
      "Ingresos promedio diario antes de impuestos (Base):  3806.6666666666665 soles\n",
      "El monto de impuestos diarios es de : 380.6666666666667 soles\n",
      "El descuento del 8% sobre la base es de: 304.5333333333333 soles\n"
     ]
    }
   ],
   "source": [
    "igv_restaurant=0.1  #Procentaje de IGV\n",
    "ingreso_diario =3426 #despues de impuestos\n",
    "base=ingreso_diario/(1-0.1) #El total de facturación\n",
    "impuesto=base*0.1\n",
    "descuento=base*0.08\n",
    "\n",
    "print(\"Ingresos promedio diario despues de impuestos: \", ingreso_diario, \"soles\")\n",
    "print(\"Ingresos promedio diario antes de impuestos (Base): \",base, \"soles\")\n",
    "print(\"El monto de impuestos diarios es de :\", impuesto, \"soles\")\n",
    "print(\"El descuento del 8% sobre la base es de:\", descuento, \"soles\")\n"
   ]
  },
  {
   "cell_type": "markdown",
   "id": "69f6e4f9",
   "metadata": {
    "id": "69f6e4f9"
   },
   "source": [
    "10.  Cristina percibe el sueldo mínimo (1130 soles). Compruebe que el salario anual de Cristina es menor al salario anual de un congresista, usando operadores de comparación y una expresión que detalle el monto mensual y el número de meses trabajados de ambos. La comparación debe ser ser evaluada a un booleano"
   ]
  },
  {
   "cell_type": "code",
   "execution_count": 11,
   "id": "cc09bc62",
   "metadata": {
    "id": "cc09bc62"
   },
   "outputs": [
    {
     "name": "stdout",
     "output_type": "stream",
     "text": [
      "Sueldo anual Cristina:  13560\n",
      "Sueldo anual Congresita:  187200\n",
      "El sueldo anual de Cristina es menor al salario anual de un congresita, por lo que la afirmación es : True\n"
     ]
    }
   ],
   "source": [
    "#sueldos mensuales\n",
    "sueldo_cristina=1130\n",
    "sueldo_congresitas=15600\n",
    "#numero de meses al año\n",
    "meses=12\n",
    "\n",
    "sueldo_anual_cristina=sueldo_cristina*meses\n",
    "sueldo_anual_congresitas=sueldo_congresitas*meses\n",
    "\n",
    "\n",
    "if sueldo_anual_cristina<sueldo_anual_congresitas:\n",
    "    sueldo_menor=True\n",
    "    print(\"Sueldo anual Cristina: \",sueldo_anual_cristina)\n",
    "    print(\"Sueldo anual Congresita: \",sueldo_anual_congresitas)\n",
    "    print(\"El sueldo anual de Cristina es menor al salario anual de un congresita, por lo que la afirmación es :\", sueldo_menor)\n",
    "else:\n",
    "    sueldo_menor=False\n",
    "    print(\"El sueldo anual de Cristina es mayor al salario anual de un congresita, por lo que la afirmación es :\", sueldo_menor)  "
   ]
  },
  {
   "cell_type": "markdown",
   "id": "37de8248",
   "metadata": {
    "id": "37de8248"
   },
   "source": [
    "11. Una conocida petrolera debe volver a compensar a  1023 familias que se dedican a la pesca por la contaminación causada en el mar donde pescan. El nuevo monto negociado es de 1200 millones de soles, sin embargo, una cláusula del contrato dice que el monto de compensación tiene que ser un número entero. ¿Cuántos soles adicionales se le  tiene  que agregar al monto negociado para que las familias reciban una cantidad entera,  asumiendo que para lograr este número entero, hay que elevar el monto total? (Pista: Acuérdate del  floor y el módulo)."
   ]
  },
  {
   "cell_type": "code",
   "execution_count": 12,
   "id": "948141a9",
   "metadata": {
    "id": "948141a9"
   },
   "outputs": [
    {
     "name": "stdout",
     "output_type": "stream",
     "text": [
      "Monto final total:  1200000483  soles\n",
      "La diferencia entre el monto inicial y el final es de : 483  soles\n",
      "Dicho monto final total compensará a cada familia con:  1173021.0  soles\n"
     ]
    }
   ],
   "source": [
    "n_familia=1023\n",
    "monto_inicial=1200*1000000\n",
    "residuo=monto_inicial%n_familia\n",
    "#condicional para ver si se cumple el monto exacto\n",
    "if residuo!=0:\n",
    "    #aquí, si yo se que existe un residuo, entonces el cociente no es múltiplo de 1023, por lo que al tener \n",
    "    #el floor, solo es encontrar el número entero superior por eso es +1. El resto es entendible\n",
    "    monto_nuevoXfamilia=(monto_inicial//n_familia)+1\n",
    "    monto_final=monto_nuevoXfamilia*n_familia\n",
    "    diferencia=monto_final-monto_inicial\n",
    "    print(\"Monto final total: \",monto_final, \" soles\")\n",
    "    print(\"La diferencia entre el monto inicial y el final es de :\" ,diferencia, \" soles\")\n",
    "    print(\"Dicho monto final total compensará a cada familia con: \", monto_final/n_familia, \" soles\")\n",
    "else:\n",
    "    print(\"Monto final total por familia: \",monto_inicial/n_familia)"
   ]
  },
  {
   "cell_type": "markdown",
   "id": "75a0de8e",
   "metadata": {
    "id": "75a0de8e"
   },
   "source": [
    "12. Crea una variable igual a una lista que contenga:\n",
    "- un string,\n",
    "- un booleano,\n",
    "- dos valores numéricos (de cualquier tipo) y\n",
    "- una lista de dos strings con el nombre de tus artistas musicales favoritos."
   ]
  },
  {
   "cell_type": "code",
   "execution_count": 13,
   "id": "721f56c9",
   "metadata": {
    "id": "721f56c9"
   },
   "outputs": [
    {
     "name": "stdout",
     "output_type": "stream",
     "text": [
      "['Marco', False, 525, 475.5, ['Gustavo Cerati', 'Freddie Mercury']]\n"
     ]
    }
   ],
   "source": [
    "lista_ejemplo=[\"Marco\",5>7,525,475.5,[\"Gustavo Cerati\",\"Freddie Mercury\"]]\n",
    "print(lista_ejemplo)\n"
   ]
  },
  {
   "cell_type": "markdown",
   "id": "5e64d253",
   "metadata": {
    "id": "5e64d253"
   },
   "source": [
    "13. Tenemos la siguiente lista de cursos:"
   ]
  },
  {
   "cell_type": "code",
   "execution_count": 14,
   "id": "8011eabe",
   "metadata": {
    "id": "8011eabe"
   },
   "outputs": [
    {
     "name": "stdout",
     "output_type": "stream",
     "text": [
      "['Ciencia Politica', 'Economia', 'Antropologia', 'Sociologia', 'Relaciones Internacionales']\n"
     ]
    }
   ],
   "source": [
    "cursos = [\"Ciencia Politica\", \"Economia\", \"Antropologia\", \"Sociologia\", \"Relaciones Internacionales\"]\n",
    "print(cursos)\n"
   ]
  },
  {
   "cell_type": "markdown",
   "id": "df10d9ac",
   "metadata": {
    "id": "df10d9ac"
   },
   "source": [
    "Realiza las siguientes operaciones en bloques diferentes:\n",
    "- Calcula cuántos elementos tiene la lista."
   ]
  },
  {
   "cell_type": "code",
   "execution_count": 15,
   "id": "2610418e",
   "metadata": {
    "id": "2610418e"
   },
   "outputs": [
    {
     "name": "stdout",
     "output_type": "stream",
     "text": [
      "El total de cursos dentro de la lista es de:  5  cursos\n"
     ]
    }
   ],
   "source": [
    "tamaño=len(cursos)\n",
    "print(\"El total de cursos dentro de la lista es de: \",tamaño, \" cursos\")"
   ]
  },
  {
   "cell_type": "markdown",
   "id": "0e1e30ac",
   "metadata": {
    "id": "0e1e30ac"
   },
   "source": [
    "13.1. Agrega tres cursos adicionales de 3 formas diferentes (uno por forma):\n",
    "   - Suma (+) una lista que contenga un curso adicional.\n",
    "   - Usa el append.\n",
    "   - Usa el extend."
   ]
  },
  {
   "cell_type": "code",
   "execution_count": 16,
   "id": "dd9e9b9f",
   "metadata": {
    "id": "dd9e9b9f"
   },
   "outputs": [
    {
     "name": "stdout",
     "output_type": "stream",
     "text": [
      "['Ciencia Politica', 'Economia', 'Antropologia', 'Sociologia', 'Relaciones Internacionales', 'Física', 'Matemática']\n",
      "['Ciencia Politica', 'Economia', 'Antropologia', 'Sociologia', 'Relaciones Internacionales', 'Física', 'Matemática']\n",
      "['Ciencia Politica', 'Economia', 'Antropologia', 'Sociologia', 'Relaciones Internacionales', 'Física', 'Matemática']\n"
     ]
    }
   ],
   "source": [
    "#Forma 1\n",
    "adiciona_forma_1=cursos + [\"Física\", \"Matemática\"]\n",
    "print(adiciona_forma_1)\n",
    "\n",
    "#Forma 2\n",
    "#mantenemos una copia de la lista original\n",
    "cursos_forma_2=cursos[:]\n",
    "cursos_forma_2.append(\"Física\")\n",
    "cursos_forma_2.append(\"Matemática\")\n",
    "print(cursos_forma_2)\n",
    "\n",
    "#volvemos a tener la lista original para el tercer caso\n",
    "\n",
    "#forma 3\n",
    "cursos_forma_3=cursos[:]\n",
    "cursos_forma_3.extend([\"Física\", \"Matemática\"])  \n",
    "print(cursos_forma_3)"
   ]
  },
  {
   "cell_type": "markdown",
   "id": "42a424de",
   "metadata": {
    "id": "42a424de"
   },
   "source": [
    "13.2.\n",
    "- Usa la indexación para señalar a _Relaciones Internacionales_."
   ]
  },
  {
   "cell_type": "code",
   "execution_count": 17,
   "id": "a453c0fe",
   "metadata": {
    "id": "a453c0fe"
   },
   "outputs": [
    {
     "name": "stdout",
     "output_type": "stream",
     "text": [
      "Relaciones Internacionales\n"
     ]
    }
   ],
   "source": [
    "print(cursos[4])"
   ]
  },
  {
   "cell_type": "markdown",
   "id": "f842a7f3",
   "metadata": {
    "id": "f842a7f3"
   },
   "source": [
    "13.3.\n",
    "- Remueve el curso que menos te guste de la lista.\n"
   ]
  },
  {
   "cell_type": "code",
   "execution_count": 18,
   "id": "03d70f60",
   "metadata": {
    "id": "03d70f60"
   },
   "outputs": [
    {
     "name": "stdout",
     "output_type": "stream",
     "text": [
      "['Ciencia Politica', 'Economia', 'Antropologia', 'Sociologia']\n"
     ]
    }
   ],
   "source": [
    "cursos.remove(\"Relaciones Internacionales\")\n",
    "print(cursos)"
   ]
  },
  {
   "cell_type": "markdown",
   "id": "f9952c8d",
   "metadata": {
    "id": "f9952c8d"
   },
   "source": [
    "14\n",
    "Tenemos los siguientes números: 22, 27, 74.2, 16.8, 125, 80, 100.\n",
    " - Crea una lista con ellos.\n",
    " - Ordena la lista de menor a mayor.\n",
    " - Saca el promedio de los números de la lista.  \n",
    "(Realiza cada uno en bloques separados)."
   ]
  },
  {
   "cell_type": "code",
   "execution_count": 19,
   "id": "f0eb206f",
   "metadata": {
    "id": "f0eb206f"
   },
   "outputs": [
    {
     "name": "stdout",
     "output_type": "stream",
     "text": [
      "[22, 27, 74.2, 16.8, 125, 80, 100]\n",
      "[16.8, 22, 27, 74.2, 80, 100, 125]\n",
      "El promedio de los números es:  63.57142857142857\n"
     ]
    }
   ],
   "source": [
    "#1).- Creamos la Lista con los números\n",
    "lista_numeros=[22,27,74.2,16.8,125,80,100]\n",
    "print(lista_numeros)\n",
    "#2).- Ordenamos los números\n",
    "lista_numeros.sort()\n",
    "print(lista_numeros)\n",
    "#3).- Sacamos el promedio\n",
    "n=len(lista_numeros)\n",
    "suma_numeros=sum(lista_numeros)\n",
    "promedio=suma_numeros/n\n",
    "print(\"El promedio de los números es: \", promedio)"
   ]
  },
  {
   "cell_type": "markdown",
   "id": "09559938",
   "metadata": {
    "id": "09559938"
   },
   "source": [
    "15.Utilizando un “if else” cree una estructura que evalúe “x” tal que:\n",
    "\n",
    "Si x es múltiplo de 2 imprima “Es múltiplo de 2”.\n",
    "\n",
    "Si x es múltiplo de 3 imprima “Es múltiplo de 3”\n",
    "\n",
    "Si x es múltiplo de 2 y 3 imprima “Es múltiplo de 2 y 3”\n",
    "\n",
    "Para otro caso, imprime “Otro caso”\n",
    "Muestra un ejemplo con x = 6.\n",
    "\n"
   ]
  },
  {
   "cell_type": "code",
   "execution_count": 20,
   "id": "97f32ab2",
   "metadata": {
    "id": "97f32ab2"
   },
   "outputs": [
    {
     "name": "stdout",
     "output_type": "stream",
     "text": [
      "x es múltiplo de 2 y 3\n"
     ]
    }
   ],
   "source": [
    "x=6\n",
    "if x%2==0:\n",
    "    if x%3==0:\n",
    "        print(\"x es múltiplo de 2 y 3\")\n",
    "    else:\n",
    "        print(\"x es múltiplo de 2\")\n",
    "elif x%3==0:\n",
    "    print(\"x es múltiplo de 3\")\n",
    "else:\n",
    "    print(\"Otro caso\") \n"
   ]
  },
  {
   "cell_type": "markdown",
   "id": "ab0213b2",
   "metadata": {
    "id": "ab0213b2"
   },
   "source": [
    "16.Crea una función llamada clasificar_edad() que reciba como parámetro la edad de una\n",
    "persona. La función debe clasificar a la persona en una de las siguientes categorías:\n",
    "\n",
    "\"Niño\" si la edad es menor de 12 años.\n",
    "\n",
    "\"Adolescente\" si la edad está entre 12 y 17 años.\n",
    "\n",
    "“Joven” si la edad está entre 18 y 24 años.\n",
    "\n",
    "\"Adulto\" si la edad está entre 25 y 64 años.\n",
    "\n",
    "\"Adulto Mayor\" si la edad es mayor o igual a 65 años.\n",
    "\n",
    "La función debe devolver la categoría correspondiente. Prueba la función con las edades de\n",
    "10, 19, 25 y 70."
   ]
  },
  {
   "cell_type": "code",
   "execution_count": 21,
   "id": "7cdc55b3",
   "metadata": {
    "id": "7cdc55b3"
   },
   "outputs": [
    {
     "name": "stdout",
     "output_type": "stream",
     "text": [
      "La persona es: Niño\n"
     ]
    }
   ],
   "source": [
    "def clasificar_edad(x):\n",
    "    if x<12:\n",
    "        print(\"La persona es: Niño\")\n",
    "    elif x>=12 and x<=17:\n",
    "        print(\"La persona es: Adolecente\")\n",
    "    elif x>=18 and x<=24:\n",
    "        print(\"La persona es: Joven\")\n",
    "    elif x>=25 and x<=64:\n",
    "        print(\"La persona es: Adulto\")\n",
    "    else:\n",
    "        print(\"La persona es: Adulto Mayor\")\n",
    "    return\n",
    "\n",
    "clasificar_edad(10)"
   ]
  },
  {
   "cell_type": "code",
   "execution_count": 22,
   "id": "e70d08fb",
   "metadata": {
    "id": "e70d08fb"
   },
   "outputs": [
    {
     "name": "stdout",
     "output_type": "stream",
     "text": [
      "La persona es: Joven\n"
     ]
    }
   ],
   "source": [
    "clasificar_edad(19)"
   ]
  },
  {
   "cell_type": "code",
   "execution_count": 23,
   "id": "464dcfcb",
   "metadata": {
    "id": "464dcfcb"
   },
   "outputs": [
    {
     "name": "stdout",
     "output_type": "stream",
     "text": [
      "La persona es: Adulto\n"
     ]
    }
   ],
   "source": [
    "clasificar_edad(25)"
   ]
  },
  {
   "cell_type": "code",
   "execution_count": 24,
   "id": "9fc3cdc5",
   "metadata": {
    "id": "9fc3cdc5"
   },
   "outputs": [
    {
     "name": "stdout",
     "output_type": "stream",
     "text": [
      "La persona es: Adulto Mayor\n"
     ]
    }
   ],
   "source": [
    "clasificar_edad(70)"
   ]
  }
 ],
 "metadata": {
  "colab": {
   "provenance": []
  },
  "kernelspec": {
   "display_name": ".venv",
   "language": "python",
   "name": "python3"
  },
  "language_info": {
   "codemirror_mode": {
    "name": "ipython",
    "version": 3
   },
   "file_extension": ".py",
   "mimetype": "text/x-python",
   "name": "python",
   "nbconvert_exporter": "python",
   "pygments_lexer": "ipython3",
   "version": "3.12.5"
  }
 },
 "nbformat": 4,
 "nbformat_minor": 5
}
