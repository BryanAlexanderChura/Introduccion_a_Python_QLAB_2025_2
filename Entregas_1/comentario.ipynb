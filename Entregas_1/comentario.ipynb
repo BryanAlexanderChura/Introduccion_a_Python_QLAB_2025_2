{
 "cells": [
  {
   "cell_type": "code",
   "execution_count": null,
   "id": "0400e7a1",
   "metadata": {},
   "outputs": [],
   "source": [
    "x = 5\n"
   ]
  }
 ],
 "metadata": {
  "language_info": {
   "name": "python"
  }
 },
 "nbformat": 4,
 "nbformat_minor": 5
}
