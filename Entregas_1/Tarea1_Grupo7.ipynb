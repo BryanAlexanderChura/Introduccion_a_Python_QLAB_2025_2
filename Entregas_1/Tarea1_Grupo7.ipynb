{
 "cells": [
  {
   "cell_type": "markdown",
   "id": "2a44fd1e",
   "metadata": {
    "id": "2a44fd1e"
   },
   "source": [
    "# Tarea 1\n"
   ]
  },
  {
   "cell_type": "markdown",
   "id": "bdacefa6",
   "metadata": {
    "id": "bdacefa6"
   },
   "source": [
    "Fecha de entrega:\n",
    "Jueves 7 de agosto, 2025, 11:59pm\n",
    "\n",
    "Comentarios generales:\n",
    "\n",
    "- No olvidar que python usa el snake_case (o minúsculas separadas por subguión) para llamar a sus variables.\n",
    "- No nombrar variables con acentos porque algunas veces, dependiendo de la máquina en la que se corra, esto será aceptado o no.\n",
    "- Leer  claramente qué es lo que pide la pregunta.  \n",
    "   \n"
   ]
  },
  {
   "cell_type": "markdown",
   "id": "80152401",
   "metadata": {
    "id": "80152401"
   },
   "source": [
    "Ejemplo:  Utilizando sólo los siguientes inputs numéricos: ```5``` y ```2```  , maneje los operadores tal que el output sea ```120```. Crea una variable con el resultado."
   ]
  },
  {
   "cell_type": "code",
   "execution_count": null,
   "id": "7601a7f9",
   "metadata": {
    "id": "7601a7f9",
    "outputId": "60035514-deb5-4eaf-9c29-172e0bdeecf8"
   },
   "outputs": [],
   "source": [
    "#GRUPO 7\n",
    "#INTEGRANTES:\n",
    " \n",
    "    #Fabiana Valentina Angulo Tapia 20230829\n",
    "    #Diego David Collantes Rivera 20231031\n",
    "    #Camila Aileen Seminaria Uscamayta 20231393\n",
    "    #Gabriela Mylen Espinoza Rodriguez 20253399\n",
    "    #Stefano Kalev De La Cruz Johanson 20231238\n"
   ]
  },
  {
   "cell_type": "markdown",
   "id": "a8018627",
   "metadata": {
    "id": "a8018627"
   },
   "source": [
    "1.  Utilizando sólo los siguientes inputs: ```5``` y ```2```  , maneje los operadores tal que el output sea ```100```"
   ]
  },
  {
   "cell_type": "code",
   "execution_count": 2,
   "id": "1f723e46",
   "metadata": {
    "id": "1f723e46"
   },
   "outputs": [
    {
     "name": "stdout",
     "output_type": "stream",
     "text": [
      "100\n"
     ]
    }
   ],
   "source": [
    "resultado_1 = (5 * 5) * (2 * 2)\n",
    "print(resultado_1)"
   ]
  },
  {
   "cell_type": "markdown",
   "id": "994dc4bc",
   "metadata": {
    "id": "994dc4bc"
   },
   "source": [
    "2. Evalúa que el output del ejemplo sea mayor al output de 1. Crea una variable con esta evaluación (Hint: Será un booleano)."
   ]
  },
  {
   "cell_type": "code",
   "execution_count": 3,
   "id": "b8928779",
   "metadata": {
    "id": "b8928779"
   },
   "outputs": [
    {
     "name": "stdout",
     "output_type": "stream",
     "text": [
      "True\n"
     ]
    }
   ],
   "source": [
    "es_mayor = 120 > resultado_1\n",
    "print(es_mayor)"
   ]
  },
  {
   "cell_type": "markdown",
   "id": "69918902",
   "metadata": {
    "id": "69918902"
   },
   "source": [
    "3. Utilizando sólo los siguientes inputs: ```51``` maneja los operadores tal que el output sea ```0```"
   ]
  },
  {
   "cell_type": "code",
   "execution_count": 12,
   "id": "4dcc2afa",
   "metadata": {
    "id": "4dcc2afa"
   },
   "outputs": [
    {
     "data": {
      "text/plain": [
       "0"
      ]
     },
     "execution_count": 12,
     "metadata": {},
     "output_type": "execute_result"
    }
   ],
   "source": [
    "output=51-51\n",
    "output"
   ]
  },
  {
   "cell_type": "markdown",
   "id": "97cf5786",
   "metadata": {
    "id": "97cf5786"
   },
   "source": [
    "4.  Utilizando sólo los siguientes inputs: ```2``` (todos los 2 que necesites) maneja los operadores tal que el output sea ```5```"
   ]
  },
  {
   "cell_type": "code",
   "execution_count": 9,
   "id": "418fdb47",
   "metadata": {
    "id": "418fdb47"
   },
   "outputs": [
    {
     "data": {
      "text/plain": [
       "5.0"
      ]
     },
     "execution_count": 9,
     "metadata": {},
     "output_type": "execute_result"
    }
   ],
   "source": [
    "output = 2+2*2 - 2/2\n",
    "output\n"
   ]
  },
  {
   "cell_type": "markdown",
   "id": "178e7ec3",
   "metadata": {
    "id": "178e7ec3"
   },
   "source": [
    "5. Crea una variable ```x``` y una variable ```y``` que sumen 2500. Crea una variable ```v``` que dé un booleano, tal que evalúe que ```x + y``` sea igual a 2200."
   ]
  },
  {
   "cell_type": "code",
   "execution_count": 8,
   "id": "0e75e524",
   "metadata": {
    "id": "0e75e524"
   },
   "outputs": [
    {
     "name": "stdout",
     "output_type": "stream",
     "text": [
      "2500\n",
      "False\n"
     ]
    }
   ],
   "source": [
    "\n",
    "x = 1200  \n",
    "y = 1300  \n",
    "\n",
    "v = (x + y == 2200)\n",
    "print(x+y)\n",
    "print(v)"
   ]
  },
  {
   "cell_type": "markdown",
   "id": "163e5332",
   "metadata": {
    "id": "163e5332"
   },
   "source": [
    "6. Cree una variable ```z``` y una variable ```a``` que sumen 1000."
   ]
  },
  {
   "cell_type": "code",
   "execution_count": 22,
   "id": "846bea9d",
   "metadata": {
    "id": "846bea9d"
   },
   "outputs": [
    {
     "name": "stdout",
     "output_type": "stream",
     "text": [
      "1000\n"
     ]
    }
   ],
   "source": [
    "z = 999\n",
    "a = 1\n",
    "\n",
    "c = (z+a)\n",
    "print(c)"
   ]
  },
  {
   "cell_type": "markdown",
   "id": "c222c968",
   "metadata": {
    "id": "c222c968"
   },
   "source": [
    "7. Calcula cuántas horas trabajan en total los 130 congresistas de nuestro país en un año. Asume que trabajan 40 horas a la semana, por 48 semanas al año (considerando que tienen vacaciones y no trabajan sobretiempo)."
   ]
  },
  {
   "cell_type": "code",
   "execution_count": 6,
   "id": "5deb8908",
   "metadata": {
    "id": "5deb8908"
   },
   "outputs": [
    {
     "name": "stdout",
     "output_type": "stream",
     "text": [
      "249600\n"
     ]
    }
   ],
   "source": [
    "ejer_7 = 40 * 48 * 130\n",
    "print(ejer_7)"
   ]
  },
  {
   "cell_type": "markdown",
   "id": "80e32ec2",
   "metadata": {
    "id": "80e32ec2"
   },
   "source": [
    "8. Ahora calcula el salario de un congresista por hora. Los supuestos del anterior ejercicio se mantienen (Se puede pasar por alto las vacaciones). Cabe recordar que los congresistas ganan 15,600 soles mensuales.   \n",
    "- Crea una variable para el salario por hora de un congresista.   \n",
    "- Crea una variable para la suma de los salarios por hora de los 130 congresistas.\n"
   ]
  },
  {
   "cell_type": "code",
   "execution_count": 13,
   "id": "6d98f342",
   "metadata": {
    "id": "6d98f342"
   },
   "outputs": [
    {
     "name": "stdout",
     "output_type": "stream",
     "text": [
      "Salario por hora de un congresista es 97.5\n",
      "La suma de los salarios por hora de los 130 congresistas es 12675.0\n"
     ]
    }
   ],
   "source": [
    "salario_por_año=15600*12\n",
    "horas_totales_año=40*48\n",
    "salario_por_hora= salario_por_año/horas_totales_año\n",
    "print(\"Salario por hora de un congresista es \"+ str(salario_por_hora))\n",
    "salario_por_hora_130_congresistas= salario_por_hora*130\n",
    "print(\"La suma de los salarios por hora de los 130 congresistas es \"+ str(salario_por_hora_130_congresistas))\n"
   ]
  },
  {
   "cell_type": "markdown",
   "id": "ae512853",
   "metadata": {
    "id": "ae512853"
   },
   "source": [
    "9. Con la reducción del IGV para restaurantes y hoteles (https://emprender.sunat.gob.pe/tributando/temas-actualidad/reduccion-igv-para-restaurantes-hoteles), los restaurantes pagan el 10% de IGV. Un restaurante factura 3426 soles diarios, en promedio, después de impuestos. Calcule el valor base (el IGV es 10% sobre el valor base, ó 1 + .1).\n",
    "\n",
    "Calcule, utilizando el valor base, cuánto es el descuento del IGV en soles (o el 8% de este valor base).\n",
    "\n",
    "Cree una variable para cada uno de los siguientes:\n",
    "- porcentaje de IGV\n",
    "- el total de facturación\n",
    "- el monto del impuesto\n",
    "- el valor base sin impuesto\n",
    "- el descuento de IGV en soles. Puedes comprobar tu fórmula con cualquier recibo de pago que detalle el IGV."
   ]
  },
  {
   "cell_type": "code",
   "execution_count": 10,
   "id": "51599f11",
   "metadata": {
    "id": "51599f11"
   },
   "outputs": [
    {
     "name": "stdout",
     "output_type": "stream",
     "text": [
      "Porcentaje de IGV: 10.0%\n",
      "Total de facturación (con IGV): S/ 3426.00\n",
      "Valor base (sin IGV): S/ 3114.55\n",
      "Monto del impuesto (10% del valor base): S/ 311.45\n",
      "Descuento del IGV (8% del valor base): S/ 249.16\n"
     ]
    }
   ],
   "source": [
    "porcentaje_igv = 0.10  \n",
    "total_facturacion = 3426 \n",
    "\n",
    "valor_base = total_facturacion / (1 + porcentaje_igv)\n",
    "\n",
    "monto_impuesto = total_facturacion - valor_base\n",
    "\n",
    "descuento_igv = valor_base * 0.08\n",
    "\n",
    "print(f\"Porcentaje de IGV: {porcentaje_igv*100}%\")\n",
    "print(f\"Total de facturación (con IGV): S/ {total_facturacion:.2f}\")\n",
    "print(f\"Valor base (sin IGV): S/ {valor_base:.2f}\")\n",
    "print(f\"Monto del impuesto (10% del valor base): S/ {monto_impuesto:.2f}\")\n",
    "print(f\"Descuento del IGV (8% del valor base): S/ {descuento_igv:.2f}\")\n"
   ]
  },
  {
   "cell_type": "markdown",
   "id": "69f6e4f9",
   "metadata": {
    "id": "69f6e4f9"
   },
   "source": [
    "10.  Cristina percibe el sueldo mínimo (1130 soles). Compruebe que el salario anual de Cristina es menor al salario anual de un congresista, usando operadores de comparación y una expresión que detalle el monto mensual y el número de meses trabajados de ambos. La comparación debe ser ser evaluada a un booleano"
   ]
  },
  {
   "cell_type": "code",
   "execution_count": 5,
   "id": "cc09bc62",
   "metadata": {
    "id": "cc09bc62"
   },
   "outputs": [
    {
     "name": "stdout",
     "output_type": "stream",
     "text": [
      "Cristina recibe un salario mensual de :  1130 y trabajo  12  meses\n",
      "El congresista recibe un salario mensual de :  15600 y trabajo  12  meses\n",
      "False\n"
     ]
    }
   ],
   "source": [
    "sueldo_cristina_mensual = 1130  \n",
    "sueldo_congresista_mensual = 15600\n",
    "meses_trabajados = 12\n",
    "\n",
    "sueldo_cristina_anual = sueldo_cristina_mensual * meses_trabajados\n",
    "sueldo_congresista_anual = sueldo_congresista_mensual * meses_trabajados\n",
    "salario_menor = (sueldo_cristina_anual>sueldo_congresista_anual)\n",
    "\n",
    "print(\"Cristina recibe un salario mensual de : \",sueldo_cristina_mensual, \"y trabajo \", meses_trabajados, \" meses\")\n",
    "print(\"El congresista recibe un salario mensual de : \",sueldo_congresista_mensual, \"y trabajo \", meses_trabajados, \" meses\")\n",
    "print(salario_menor)"
   ]
  },
  {
   "cell_type": "markdown",
   "id": "37de8248",
   "metadata": {
    "id": "37de8248"
   },
   "source": [
    "11. Una conocida petrolera debe volver a compensar a  1023 familias que se dedican a la pesca por la contaminación causada en el mar donde pescan. El nuevo monto negociado es de 1200 millones de soles, sin embargo, una cláusula del contrato dice que el monto de compensación tiene que ser un número entero. ¿Cuántos soles adicionales se le  tiene  que agregar al monto negociado para que las familias reciban una cantidad entera,  asumiendo que para lograr este número entero, hay que elevar el monto total? (Pista: Acuérdate del  floor y el módulo)."
   ]
  },
  {
   "cell_type": "code",
   "execution_count": 2,
   "id": "948141a9",
   "metadata": {
    "id": "948141a9"
   },
   "outputs": [
    {
     "name": "stdout",
     "output_type": "stream",
     "text": [
      "Soles adicionales: 483\n"
     ]
    }
   ],
   "source": [
    "familias = 1023\n",
    "monto = 1_200_000_000 \n",
    "\n",
    "resto = monto % familias\n",
    "faltante = familias - resto\n",
    "\n",
    "print(f\"Soles adicionales: {faltante}\")"
   ]
  },
  {
   "cell_type": "markdown",
   "id": "75a0de8e",
   "metadata": {
    "id": "75a0de8e"
   },
   "source": [
    "12. Crea una variable igual a una lista que contenga:\n",
    "- un string,\n",
    "- un booleano,\n",
    "- dos valores numéricos (de cualquier tipo) y\n",
    "- una lista de dos strings con el nombre de tus artistas musicales favoritos."
   ]
  },
  {
   "cell_type": "code",
   "execution_count": 7,
   "id": "721f56c9",
   "metadata": {
    "id": "721f56c9"
   },
   "outputs": [
    {
     "name": "stdout",
     "output_type": "stream",
     "text": [
      "['Hola, que tal', True, 27, 10.05, ['Duki', 'Omar Courtz']]\n"
     ]
    }
   ],
   "source": [
    "mi_lista = [\n",
    "    \"Hola, que tal\",            # un string\n",
    "    True,                    # un booleano\n",
    "    27,                      # primer valor numérico (entero)\n",
    "    10.05,                    # segundo valor numérico (decimal)\n",
    "    [\"Duki\", \"Omar Courtz\"]  # lista con dos strings (artistas favoritos)\n",
    "]\n",
    "print(mi_lista)"
   ]
  },
  {
   "cell_type": "markdown",
   "id": "5e64d253",
   "metadata": {
    "id": "5e64d253"
   },
   "source": [
    "13. Tenemos la siguiente lista de cursos:"
   ]
  },
  {
   "cell_type": "code",
   "execution_count": 16,
   "id": "8011eabe",
   "metadata": {
    "id": "8011eabe"
   },
   "outputs": [],
   "source": [
    "cursos = [\"Ciencia Politica\", \"Economia\", \"Antropologia\", \"Sociologia\", \"Relaciones Internacionales\"]\n"
   ]
  },
  {
   "cell_type": "markdown",
   "id": "df10d9ac",
   "metadata": {
    "id": "df10d9ac"
   },
   "source": [
    "Realiza las siguientes operaciones en bloques diferentes:\n",
    "- Calcula cuántos elementos tiene la lista."
   ]
  },
  {
   "cell_type": "code",
   "execution_count": 17,
   "id": "2610418e",
   "metadata": {
    "id": "2610418e"
   },
   "outputs": [
    {
     "data": {
      "text/plain": [
       "5"
      ]
     },
     "execution_count": 17,
     "metadata": {},
     "output_type": "execute_result"
    }
   ],
   "source": [
    "len(cursos)"
   ]
  },
  {
   "cell_type": "markdown",
   "id": "0e1e30ac",
   "metadata": {
    "id": "0e1e30ac"
   },
   "source": [
    "13.1. Agrega tres cursos adicionales de 3 formas diferentes (uno por forma):\n",
    "   - Suma (+) una lista que contenga un curso adicional.\n",
    "   - Usa el append.\n",
    "   - Usa el extend."
   ]
  },
  {
   "cell_type": "code",
   "execution_count": 18,
   "id": "dd9e9b9f",
   "metadata": {
    "id": "dd9e9b9f"
   },
   "outputs": [
    {
     "name": "stdout",
     "output_type": "stream",
     "text": [
      "['Ciencia Politica', 'Economia', 'Antropologia', 'Sociologia', 'Relaciones Internacionales', 'Finanzas']\n",
      "['Ciencia Politica', 'Economia', 'Antropologia', 'Sociologia', 'Relaciones Internacionales', 'Finanzas', 'Artes']\n",
      "['Ciencia Politica', 'Economia', 'Antropologia', 'Sociologia', 'Relaciones Internacionales', 'Finanzas', 'Artes', 'Medicina']\n"
     ]
    }
   ],
   "source": [
    "cursos= cursos + [\"Finanzas\"]\n",
    "print(cursos)\n",
    "\n",
    "cursos.append(\"Artes\")\n",
    "print(cursos)\n",
    "\n",
    "cursos.extend([\"Medicina\"])\n",
    "print(cursos)\n"
   ]
  },
  {
   "cell_type": "markdown",
   "id": "42a424de",
   "metadata": {
    "id": "42a424de"
   },
   "source": [
    "13.2.\n",
    "- Usa la indexación para señalar a _Relaciones Internacionales_."
   ]
  },
  {
   "cell_type": "code",
   "execution_count": 19,
   "id": "a453c0fe",
   "metadata": {
    "id": "a453c0fe"
   },
   "outputs": [
    {
     "data": {
      "text/plain": [
       "'Relaciones Internacionales'"
      ]
     },
     "execution_count": 19,
     "metadata": {},
     "output_type": "execute_result"
    }
   ],
   "source": [
    "cursos[4]"
   ]
  },
  {
   "cell_type": "markdown",
   "id": "f842a7f3",
   "metadata": {
    "id": "f842a7f3"
   },
   "source": [
    "13.3.\n",
    "- Remueve el curso que menos te guste de la lista.\n"
   ]
  },
  {
   "cell_type": "code",
   "execution_count": 20,
   "id": "03d70f60",
   "metadata": {
    "id": "03d70f60"
   },
   "outputs": [
    {
     "name": "stdout",
     "output_type": "stream",
     "text": [
      "['Economia', 'Antropologia', 'Sociologia', 'Relaciones Internacionales', 'Finanzas', 'Artes', 'Medicina']\n"
     ]
    }
   ],
   "source": [
    "cursos.remove(\"Ciencia Politica\")\n",
    "print(cursos)"
   ]
  },
  {
   "cell_type": "markdown",
   "id": "f9952c8d",
   "metadata": {
    "id": "f9952c8d"
   },
   "source": [
    "14\n",
    "Tenemos los siguientes números: 22, 27, 74.2, 16.8, 125, 80, 100.\n",
    " - Crea una lista con ellos.\n",
    " - Ordena la lista de menor a mayor.\n",
    " - Saca el promedio de los números de la lista.  \n",
    "(Realiza cada uno en bloques separados)."
   ]
  },
  {
   "cell_type": "code",
   "execution_count": 11,
   "id": "f0eb206f",
   "metadata": {
    "id": "f0eb206f"
   },
   "outputs": [
    {
     "data": {
      "text/plain": [
       "63.57142857142857"
      ]
     },
     "execution_count": 11,
     "metadata": {},
     "output_type": "execute_result"
    }
   ],
   "source": [
    "lista = [22, 27, 74.2, 16.8, 125, 80, 100]\n",
    "lista\n",
    "\n",
    "lista = [22, 27, 74.2, 16.8, 125, 80, 100]\n",
    "lista.sort()\n",
    "lista\n",
    "\n",
    "lista = [22, 27, 74.2, 16.8, 125, 80, 100]\n",
    "promedio = sum(lista) / len(lista)\n",
    "promedio"
   ]
  },
  {
   "cell_type": "markdown",
   "id": "09559938",
   "metadata": {
    "id": "09559938"
   },
   "source": [
    "15.Utilizando un “if else” cree una estructura que evalúe “x” tal que:\n",
    "\n",
    "Si x es múltiplo de 2 imprima “Es múltiplo de 2”.\n",
    "\n",
    "Si x es múltiplo de 3 imprima “Es múltiplo de 3”\n",
    "\n",
    "Si x es múltiplo de 2 y 3 imprima “Es múltiplo de 2 y 3”\n",
    "\n",
    "Para otro caso, imprime “Otro caso”\n",
    "Muestra un ejemplo con x = 6.\n",
    "\n"
   ]
  },
  {
   "cell_type": "code",
   "execution_count": 1,
   "id": "97f32ab2",
   "metadata": {
    "id": "97f32ab2"
   },
   "outputs": [
    {
     "name": "stdout",
     "output_type": "stream",
     "text": [
      "Es múltiplo de 2 y 3\n"
     ]
    }
   ],
   "source": [
    "x = 6\n",
    "\n",
    "if x % 2 == 0 and x % 3 == 0:\n",
    "    print(\"Es múltiplo de 2 y 3\")\n",
    "elif x % 2 == 0:\n",
    "    print(\"Es múltiplo de 2\")\n",
    "elif x % 3 == 0:\n",
    "    print(\"Es múltiplo de 3\")\n",
    "else:\n",
    "    print(\"Otro caso\")"
   ]
  },
  {
   "cell_type": "markdown",
   "id": "ab0213b2",
   "metadata": {
    "id": "ab0213b2"
   },
   "source": [
    "16.Crea una función llamada clasificar_edad() que reciba como parámetro la edad de una\n",
    "persona. La función debe clasificar a la persona en una de las siguientes categorías:\n",
    "\n",
    "\"Niño\" si la edad es menor de 12 años.\n",
    "\n",
    "\"Adolescente\" si la edad está entre 12 y 17 años.\n",
    "\n",
    "“Joven” si la edad está entre 18 y 24 años.\n",
    "\n",
    "\"Adulto\" si la edad está entre 25 y 64 años.\n",
    "\n",
    "\"Adulto Mayor\" si la edad es mayor o igual a 65 años.\n",
    "\n",
    "La función debe devolver la categoría correspondiente. Prueba la función con las edades de\n",
    "10, 19, 25 y 70."
   ]
  },
  {
   "cell_type": "code",
   "execution_count": 23,
   "id": "7cdc55b3",
   "metadata": {
    "id": "7cdc55b3"
   },
   "outputs": [
    {
     "name": "stdout",
     "output_type": "stream",
     "text": [
      "Niño\n"
     ]
    }
   ],
   "source": [
    "edad = 10\n",
    "\n",
    "if edad < 12:\n",
    "    print(\"Niño\")\n",
    "elif 12 <= edad <= 17:\n",
    "    print(\"Adolescente\")\n",
    "elif 18 <= edad <= 24:\n",
    "    print(\"Joven\")\n",
    "elif 25 <= edad <= 64:\n",
    "    print(\"Adulto\")\n",
    "elif edad >= 65:\n",
    "    print(\"Adulto Mayor\")"
   ]
  },
  {
   "cell_type": "code",
   "execution_count": 24,
   "id": "e70d08fb",
   "metadata": {
    "id": "e70d08fb"
   },
   "outputs": [
    {
     "name": "stdout",
     "output_type": "stream",
     "text": [
      "Joven\n"
     ]
    }
   ],
   "source": [
    "edad = 19\n",
    "\n",
    "if edad < 12:\n",
    "    print(\"Niño\")\n",
    "elif 12 <= edad <= 17:\n",
    "    print(\"Adolescente\")\n",
    "elif 18 <= edad <= 24:\n",
    "    print(\"Joven\")\n",
    "elif 25 <= edad <= 64:\n",
    "    print(\"Adulto\")\n",
    "elif edad >= 65:\n",
    "    print(\"Adulto Mayor\")"
   ]
  },
  {
   "cell_type": "code",
   "execution_count": 25,
   "id": "464dcfcb",
   "metadata": {
    "id": "464dcfcb"
   },
   "outputs": [
    {
     "name": "stdout",
     "output_type": "stream",
     "text": [
      "Adulto\n"
     ]
    }
   ],
   "source": [
    "edad = 25\n",
    "\n",
    "if edad < 12:\n",
    "    print(\"Niño\")\n",
    "elif 12 <= edad <= 17:\n",
    "    print(\"Adolescente\")\n",
    "elif 18 <= edad <= 24:\n",
    "    print(\"Joven\")\n",
    "elif 25 <= edad <= 64:\n",
    "    print(\"Adulto\")\n",
    "elif edad >= 65:\n",
    "    print(\"Adulto Mayor\")"
   ]
  },
  {
   "cell_type": "code",
   "execution_count": 26,
   "id": "9fc3cdc5",
   "metadata": {
    "id": "9fc3cdc5"
   },
   "outputs": [
    {
     "name": "stdout",
     "output_type": "stream",
     "text": [
      "Adulto Mayor\n"
     ]
    }
   ],
   "source": [
    "edad = 70\n",
    "\n",
    "if edad < 12:\n",
    "    print(\"Niño\")\n",
    "elif 12 <= edad <= 17:\n",
    "    print(\"Adolescente\")\n",
    "elif 18 <= edad <= 24:\n",
    "    print(\"Joven\")\n",
    "elif 25 <= edad <= 64:\n",
    "    print(\"Adulto\")\n",
    "elif edad >= 65:\n",
    "    print(\"Adulto Mayor\")"
   ]
  }
 ],
 "metadata": {
  "colab": {
   "provenance": []
  },
  "kernelspec": {
   "display_name": ".venv",
   "language": "python",
   "name": "python3"
  },
  "language_info": {
   "codemirror_mode": {
    "name": "ipython",
    "version": 3
   },
   "file_extension": ".py",
   "mimetype": "text/x-python",
   "name": "python",
   "nbconvert_exporter": "python",
   "pygments_lexer": "ipython3",
   "version": "3.12.10"
  }
 },
 "nbformat": 4,
 "nbformat_minor": 5
}
