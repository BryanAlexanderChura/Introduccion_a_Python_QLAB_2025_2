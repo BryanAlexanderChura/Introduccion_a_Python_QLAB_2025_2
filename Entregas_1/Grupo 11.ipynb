{
  "cells": [
    {
      "cell_type": "markdown",
      "id": "2a44fd1e",
      "metadata": {
        "id": "2a44fd1e"
      },
      "source": [
        "# Tarea 1\n"
      ]
    },
    {
      "cell_type": "markdown",
      "id": "bdacefa6",
      "metadata": {
        "id": "bdacefa6"
      },
      "source": [
        "Fecha de entrega:\n",
        "Jueves 7 de agosto, 2025, 11:59pm\n",
        "\n",
        "Comentarios generales:\n",
        "\n",
        "- No olvidar que python usa el snake_case (o minúsculas separadas por subguión) para llamar a sus variables.\n",
        "- No nombrar variables con acentos porque algunas veces, dependiendo de la máquina en la que se corra, esto será aceptado o no.\n",
        "- Leer  claramente qué es lo que pide la pregunta.  \n",
        "   \n"
      ]
    },
    {
      "cell_type": "markdown",
      "id": "u8tXMPurbC68",
      "metadata": {
        "id": "u8tXMPurbC68"
      },
      "source": [
        "Intregantes:\n",
        "\n",
        "Fabio Iberico 20222610\n",
        "Carlos Morales 20223250\n",
        "Leonardo Manxanedo 20222052"
      ]
    },
    {
      "cell_type": "markdown",
      "id": "80152401",
      "metadata": {
        "id": "80152401"
      },
      "source": [
        "Ejemplo:  Utilizando sólo los siguientes inputs numéricos: ```5``` y ```2```  , maneje los operadores tal que el output sea ```120```. Crea una variable con el resultado."
      ]
    },
    {
      "cell_type": "code",
      "execution_count": null,
      "id": "uAeG6614stB0",
      "metadata": {
        "colab": {
          "base_uri": "https://localhost:8080/"
        },
        "id": "uAeG6614stB0",
        "outputId": "728c5d90-64bf-40b6-c858-4101e0c62b74"
      },
      "outputs": [
        {
          "data": {
            "text/plain": [
              "120"
            ]
          },
          "execution_count": 3,
          "metadata": {},
          "output_type": "execute_result"
        }
      ],
      "source": [
        "#Respuesta\n",
        "output = (5*2)**2 + 5*2**2\n",
        "output"
      ]
    },
    {
      "cell_type": "markdown",
      "id": "a8018627",
      "metadata": {
        "id": "a8018627"
      },
      "source": [
        "1.  Utilizando sólo los siguientes inputs: ```5``` y ```2```  , maneje los operadores tal que el output sea ```100```"
      ]
    },
    {
      "cell_type": "code",
      "execution_count": null,
      "id": "1f723e46",
      "metadata": {
        "colab": {
          "base_uri": "https://localhost:8080/"
        },
        "id": "1f723e46",
        "outputId": "262e4f79-4a1a-453b-b89f-573c39985b97"
      },
      "outputs": [
        {
          "data": {
            "text/plain": [
              "100"
            ]
          },
          "execution_count": 4,
          "metadata": {},
          "output_type": "execute_result"
        }
      ],
      "source": [
        "output_1 = (5*2)*(5*2)\n",
        "output_1"
      ]
    },
    {
      "cell_type": "markdown",
      "id": "994dc4bc",
      "metadata": {
        "id": "994dc4bc"
      },
      "source": [
        "2. Evalúa que el output del ejemplo sea mayor al output de 1. Crea una variable con esta evaluación (Hint: Será un booleano)."
      ]
    },
    {
      "cell_type": "code",
      "execution_count": null,
      "id": "b8928779",
      "metadata": {
        "colab": {
          "base_uri": "https://localhost:8080/"
        },
        "id": "b8928779",
        "outputId": "704ae882-07a6-4493-d125-903fb9e74ef5"
      },
      "outputs": [
        {
          "data": {
            "text/plain": [
              "True"
            ]
          },
          "execution_count": 5,
          "metadata": {},
          "output_type": "execute_result"
        }
      ],
      "source": [
        "booleano = output > output_1\n",
        "booleano"
      ]
    },
    {
      "cell_type": "markdown",
      "id": "69918902",
      "metadata": {
        "id": "69918902"
      },
      "source": [
        "3. Utilizando sólo los siguientes inputs: ```51``` maneja los operadores tal que el output sea ```0```"
      ]
    },
    {
      "cell_type": "code",
      "execution_count": null,
      "id": "4dcc2afa",
      "metadata": {
        "colab": {
          "base_uri": "https://localhost:8080/"
        },
        "id": "4dcc2afa",
        "outputId": "ae81ec34-6aef-4102-a986-8bedca9a39a9"
      },
      "outputs": [
        {
          "data": {
            "text/plain": [
              "0"
            ]
          },
          "execution_count": 6,
          "metadata": {},
          "output_type": "execute_result"
        }
      ],
      "source": [
        "output_3 = 5-(5*1)\n",
        "output_3"
      ]
    },
    {
      "cell_type": "markdown",
      "id": "97cf5786",
      "metadata": {
        "id": "97cf5786"
      },
      "source": [
        "4.  Utilizando sólo los siguientes inputs: ```2``` (todos los 2 que necesites) maneja los operadores tal que el output sea ```5```"
      ]
    },
    {
      "cell_type": "code",
      "execution_count": null,
      "id": "418fdb47",
      "metadata": {
        "colab": {
          "base_uri": "https://localhost:8080/"
        },
        "id": "418fdb47",
        "outputId": "d3109309-e69b-4f46-e5cc-17e7e3d1e499"
      },
      "outputs": [
        {
          "data": {
            "text/plain": [
              "5"
            ]
          },
          "execution_count": 8,
          "metadata": {},
          "output_type": "execute_result"
        }
      ],
      "source": [
        "output_4 = 2 + 2 +(2//2)\n",
        "output_4"
      ]
    },
    {
      "cell_type": "markdown",
      "id": "178e7ec3",
      "metadata": {
        "id": "178e7ec3"
      },
      "source": [
        "5. Crea una variable ```x``` y una variable ```y``` que sumen 2500. Crea una variable ```v``` que dé un booleano, tal que evalúe que ```x + y``` sea igual a 2200."
      ]
    },
    {
      "cell_type": "code",
      "execution_count": 5,
      "id": "0e75e524",
      "metadata": {
        "colab": {
          "base_uri": "https://localhost:8080/"
        },
        "id": "0e75e524",
        "outputId": "530389e0-7412-462e-b2f4-64ede4651e45"
      },
      "outputs": [
        {
          "data": {
            "text/plain": [
              "False"
            ]
          },
          "execution_count": 5,
          "metadata": {},
          "output_type": "execute_result"
        }
      ],
      "source": [
        "x = 1300\n",
        "y = 1200\n",
        "z = x + y\n",
        "v = (z == 2200)\n",
        "v"
      ]
    },
    {
      "cell_type": "markdown",
      "id": "163e5332",
      "metadata": {
        "id": "163e5332"
      },
      "source": [
        "6. Cree una variable ```z``` y una variable ```a``` que sumen 1000."
      ]
    },
    {
      "cell_type": "code",
      "execution_count": null,
      "id": "846bea9d",
      "metadata": {
        "colab": {
          "base_uri": "https://localhost:8080/"
        },
        "id": "846bea9d",
        "outputId": "19aa2ed3-c968-4a4d-8b58-037bf005fff2"
      },
      "outputs": [
        {
          "data": {
            "text/plain": [
              "1000"
            ]
          },
          "execution_count": 11,
          "metadata": {},
          "output_type": "execute_result"
        }
      ],
      "source": [
        "z = 600\n",
        "a = 400\n",
        "a + z"
      ]
    },
    {
      "cell_type": "markdown",
      "id": "c222c968",
      "metadata": {
        "id": "c222c968"
      },
      "source": [
        "7. Calcula cuántas horas trabajan en total los 130 congresistas de nuestro país en un año. Asume que trabajan 40 horas a la semana, por 48 semanas al año (considerando que tienen vacaciones y no trabajan sobretiempo)."
      ]
    },
    {
      "cell_type": "code",
      "execution_count": null,
      "id": "5deb8908",
      "metadata": {
        "colab": {
          "base_uri": "https://localhost:8080/"
        },
        "id": "5deb8908",
        "outputId": "22a18093-d711-4432-8011-c15f50bed5cd"
      },
      "outputs": [
        {
          "data": {
            "text/plain": [
              "249600"
            ]
          },
          "execution_count": 13,
          "metadata": {},
          "output_type": "execute_result"
        }
      ],
      "source": [
        "horas_de_trabajo_por_año_1 = 40 * 48\n",
        "horas_totales_de_trabajo_por_año = 130 * horas_de_trabajo_por_año_1\n",
        "horas_totales_de_trabajo_por_año"
      ]
    },
    {
      "cell_type": "markdown",
      "id": "80e32ec2",
      "metadata": {
        "id": "80e32ec2"
      },
      "source": [
        "8. Ahora calcula el salario de un congresista por hora. Los supuestos del anterior ejercicio se mantienen (Se puede pasar por alto las vacaciones). Cabe recordar que los congresistas ganan 15,600 soles mensuales.   \n",
        "- Crea una variable para el salario por hora de un congresista.   \n",
        "- Crea una variable para la suma de los salarios por hora de los 130 congresistas.\n"
      ]
    },
    {
      "cell_type": "code",
      "execution_count": null,
      "id": "6d98f342",
      "metadata": {
        "colab": {
          "base_uri": "https://localhost:8080/"
        },
        "id": "6d98f342",
        "outputId": "72983a86-e1b9-47d7-c13e-b16156acc3b0"
      },
      "outputs": [
        {
          "name": "stdout",
          "output_type": "stream",
          "text": [
            "Salario por hora de un congresista: 97.5 soles/hora\n",
            "Suma de los salarios por hora de los 130 congresistas: 12675.0 soles/hora\n"
          ]
        }
      ],
      "source": [
        "salario_mensual_congresista = 15600\n",
        "congresistas_total = 130\n",
        "\n",
        "horas_semanales = 40\n",
        "semanas_al_año = 48\n",
        "horas_anuales_congresista = horas_semanales * semanas_al_año  # 1920 horas\n",
        "\n",
        "salario_anual_congresista = salario_mensual_congresista * 12  # 187200 soles\n",
        "\n",
        "salario_por_hora_congresista = salario_anual_congresista / horas_anuales_congresista\n",
        "\n",
        "print(f\"Salario por hora de un congresista: {salario_por_hora_congresista} soles/hora\")\n",
        "\n",
        "suma_salarios_por_hora_total = salario_por_hora_congresista * congresistas_total\n",
        "\n",
        "print(f\"Suma de los salarios por hora de los 130 congresistas: {suma_salarios_por_hora_total} soles/hora\")"
      ]
    },
    {
      "cell_type": "markdown",
      "id": "ae512853",
      "metadata": {
        "id": "ae512853"
      },
      "source": [
        "9. Con la reducción del IGV para restaurantes y hoteles (https://emprender.sunat.gob.pe/tributando/temas-actualidad/reduccion-igv-para-restaurantes-hoteles), los restaurantes pagan el 10% de IGV. Un restaurante factura 3426 soles diarios, en promedio, después de impuestos. Calcule el valor base (el IGV es 10% sobre el valor base, ó 1 + .1).\n",
        "\n",
        "Calcule, utilizando el valor base, cuánto es el descuento del IGV en soles (o el 8% de este valor base).\n",
        "\n",
        "Cree una variable para cada uno de los siguientes:\n",
        "- porcentaje de IGV\n",
        "- el total de facturación\n",
        "- el monto del impuesto\n",
        "- el valor base sin impuesto\n",
        "- el descuento de IGV en soles. Puedes comprobar tu fórmula con cualquier recibo de pago que detalle el IGV."
      ]
    },
    {
      "cell_type": "code",
      "execution_count": 22,
      "id": "51599f11",
      "metadata": {
        "colab": {
          "base_uri": "https://localhost:8080/"
        },
        "id": "51599f11",
        "outputId": "27664d6e-bc81-4114-b7d6-96640f616efb"
      },
      "outputs": [
        {
          "name": "stdout",
          "output_type": "stream",
          "text": [
            "Valor base sin impuesto: S/ 3114.55\n",
            "Monto del IGV actual (10%): S/ 311.45\n",
            "Descuento de IGV (8%): S/ 249.16\n"
          ]
        }
      ],
      "source": [
        "igv_actual = 0.10  # (8 % IGV + 2 % IPM)\n",
        "igv_general = 0.18  # IGV sin beneficio\n",
        "facturacion_total = 3426  # Monto total con IGV\n",
        "\n",
        "valor_base = facturacion_total / (1 + igv_actual)\n",
        "monto_igv = facturacion_total - valor_base\n",
        "descuento_igv = valor_base * (igv_general - igv_actual)\n",
        "\n",
        "print(\"Valor base sin impuesto: S/\", round(valor_base, 2))\n",
        "print(\"Monto del IGV actual (10%): S/\", round(monto_igv, 2))\n",
        "print(\"Descuento de IGV (8%): S/\", round(descuento_igv, 2))"
      ]
    },
    {
      "cell_type": "markdown",
      "id": "69f6e4f9",
      "metadata": {
        "id": "69f6e4f9"
      },
      "source": [
        "10.  Cristina percibe el sueldo mínimo (1130 soles). Compruebe que el salario anual de Cristina es menor al salario anual de un congresista, usando operadores de comparación y una expresión que detalle el monto mensual y el número de meses trabajados de ambos. La comparación debe ser ser evaluada a un booleano"
      ]
    },
    {
      "cell_type": "code",
      "execution_count": 13,
      "id": "cc09bc62",
      "metadata": {
        "colab": {
          "base_uri": "https://localhost:8080/"
        },
        "id": "cc09bc62",
        "outputId": "a89d2c4a-4dea-4dc9-a368-9af6e4121c89"
      },
      "outputs": [
        {
          "name": "stdout",
          "output_type": "stream",
          "text": [
            "Salario anual de Cristina: 13560\n",
            "Salario anual de un congresista: 187200\n",
            "¿El salario anual de Cristina es menor al de un congresista? True\n"
          ]
        }
      ],
      "source": [
        "# Datos\n",
        "cristina_sueldo = 1130\n",
        "meses_trabajados = 12\n",
        "\n",
        "congresista_sueldo = 15600\n",
        "\n",
        "salario_anual_cristina = cristina_sueldo * meses_trabajados\n",
        "salario_anual_congresista = congresista_sueldo * meses_trabajados\n",
        "\n",
        "es_menor = salario_anual_cristina < salario_anual_congresista\n",
        "\n",
        "# Resultados\n",
        "print(\"Salario anual de Cristina:\", salario_anual_cristina)\n",
        "print(\"Salario anual de un congresista:\", salario_anual_congresista)\n",
        "print(\"¿El salario anual de Cristina es menor al de un congresista?\", es_menor)\n"
      ]
    },
    {
      "cell_type": "markdown",
      "id": "37de8248",
      "metadata": {
        "id": "37de8248"
      },
      "source": [
        "11. Una conocida petrolera debe volver a compensar a  1023 familias que se dedican a la pesca por la contaminación causada en el mar donde pescan. El nuevo monto negociado es de 1200 millones de soles, sin embargo, una cláusula del contrato dice que el monto de compensación tiene que ser un número entero. ¿Cuántos soles adicionales se le  tiene  que agregar al monto negociado para que las familias reciban una cantidad entera,  asumiendo que para lograr este número entero, hay que elevar el monto total? (Pista: Acuérdate del  floor y el módulo)."
      ]
    },
    {
      "cell_type": "code",
      "execution_count": 14,
      "id": "948141a9",
      "metadata": {
        "colab": {
          "base_uri": "https://localhost:8080/"
        },
        "id": "948141a9",
        "outputId": "5bc2c607-ebc1-4cc6-fac1-ca71d5e6af17"
      },
      "outputs": [
        {
          "name": "stdout",
          "output_type": "stream",
          "text": [
            "Monto por familia (sin redondear): 1173020.5278592375\n",
            "Soles adicionales que hay que agregar: 483\n"
          ]
        }
      ],
      "source": [
        "monto_total = 1200000000  # soles\n",
        "familias = 1023\n",
        "\n",
        "monto_por_familia = monto_total / familias\n",
        "\n",
        "sobrante = monto_total % familias\n",
        "\n",
        "if sobrante != 0:\n",
        "    adicional = familias - sobrante\n",
        "else:\n",
        "    adicional = 0\n",
        "\n",
        "print(\"Monto por familia (sin redondear):\", monto_por_familia)\n",
        "print(\"Soles adicionales que hay que agregar:\", adicional)"
      ]
    },
    {
      "cell_type": "markdown",
      "id": "75a0de8e",
      "metadata": {
        "id": "75a0de8e"
      },
      "source": [
        "12. Crea una variable igual a una lista que contenga:\n",
        "- un string,\n",
        "- un booleano,\n",
        "- dos valores numéricos (de cualquier tipo) y\n",
        "- una lista de dos strings con el nombre de tus artistas musicales favoritos."
      ]
    },
    {
      "cell_type": "code",
      "execution_count": 15,
      "id": "721f56c9",
      "metadata": {
        "colab": {
          "base_uri": "https://localhost:8080/"
        },
        "id": "721f56c9",
        "outputId": "3efe65bb-c954-4d64-b0ce-67752a3942e7"
      },
      "outputs": [
        {
          "name": "stdout",
          "output_type": "stream",
          "text": [
            "['Esto es un string', True, 42, 3.14, ['The Strokes', 'Interpol']]\n"
          ]
        }
      ],
      "source": [
        "mi_lista = [\n",
        "    \"Esto es un string\",        # string\n",
        "    True,                       # booleano\n",
        "    42,                         # entero\n",
        "    3.14,                       # flotante\n",
        "    [\"The Strokes\", \"Interpol\"] # lista con artistas favoritos\n",
        "]\n",
        "\n",
        "print(mi_lista)"
      ]
    },
    {
      "cell_type": "markdown",
      "id": "5e64d253",
      "metadata": {
        "id": "5e64d253"
      },
      "source": [
        "13. Tenemos la siguiente lista de cursos:"
      ]
    },
    {
      "cell_type": "code",
      "execution_count": 1,
      "id": "8011eabe",
      "metadata": {
        "id": "8011eabe"
      },
      "outputs": [],
      "source": [
        "cursos = [\"Ciencia Politica\", \"Economia\", \"Antropologia\", \"Sociologia\", \"Relaciones Internacionales\"]\n"
      ]
    },
    {
      "cell_type": "markdown",
      "id": "df10d9ac",
      "metadata": {
        "id": "df10d9ac"
      },
      "source": [
        "Realiza las siguientes operaciones en bloques diferentes:\n",
        "- Calcula cuántos elementos tiene la lista."
      ]
    },
    {
      "cell_type": "code",
      "execution_count": 2,
      "id": "2610418e",
      "metadata": {
        "colab": {
          "base_uri": "https://localhost:8080/"
        },
        "id": "2610418e",
        "outputId": "f0b461a0-b598-48cc-a5c4-b4afbca5e6a7"
      },
      "outputs": [
        {
          "data": {
            "text/plain": [
              "5"
            ]
          },
          "execution_count": 2,
          "metadata": {},
          "output_type": "execute_result"
        }
      ],
      "source": [
        "len(cursos)"
      ]
    },
    {
      "cell_type": "markdown",
      "id": "0e1e30ac",
      "metadata": {
        "id": "0e1e30ac"
      },
      "source": [
        "13.1. Agrega tres cursos adicionales de 3 formas diferentes (uno por forma):\n",
        "   - Suma (+) una lista que contenga un curso adicional.\n",
        "   - Usa el append.\n",
        "   - Usa el extend."
      ]
    },
    {
      "cell_type": "code",
      "execution_count": 17,
      "id": "auMQw5p5YSGg",
      "metadata": {
        "colab": {
          "base_uri": "https://localhost:8080/"
        },
        "id": "auMQw5p5YSGg",
        "outputId": "e171fd4d-4851-44ae-da3a-8db3a7a0f7b6"
      },
      "outputs": [
        {
          "name": "stdout",
          "output_type": "stream",
          "text": [
            "['Ciencia Politica', 'Economia', 'Antropologia', 'Sociologia', 'Relaciones Internacionales', 'Arqueologia', 'Arqueologia', 'Mate 2', 'Mate 3', 'Arqueologia', 'Arqueologia']\n"
          ]
        }
      ],
      "source": [
        "cursos = cursos + [\"Arqueologia\"]\n",
        "print(cursos)"
      ]
    },
    {
      "cell_type": "code",
      "execution_count": 18,
      "id": "ctxE8oATYR-r",
      "metadata": {
        "colab": {
          "base_uri": "https://localhost:8080/"
        },
        "id": "ctxE8oATYR-r",
        "outputId": "c58bc14d-616e-451f-9561-03debfd4f3a1"
      },
      "outputs": [
        {
          "name": "stdout",
          "output_type": "stream",
          "text": [
            "['Ciencia Politica', 'Economia', 'Antropologia', 'Sociologia', 'Relaciones Internacionales', 'Arqueologia', 'Arqueologia', 'Mate 2', 'Mate 3', 'Arqueologia', 'Arqueologia', 'Mate 2']\n"
          ]
        }
      ],
      "source": [
        "cursos = cursos + [\"Mate 2\"]\n",
        "print(cursos)"
      ]
    },
    {
      "cell_type": "code",
      "execution_count": 19,
      "id": "dd9e9b9f",
      "metadata": {
        "colab": {
          "base_uri": "https://localhost:8080/"
        },
        "id": "dd9e9b9f",
        "outputId": "bb2a03dd-beca-4efc-84a5-740b4ce225d0"
      },
      "outputs": [
        {
          "name": "stdout",
          "output_type": "stream",
          "text": [
            "['Ciencia Politica', 'Economia', 'Antropologia', 'Sociologia', 'Relaciones Internacionales', 'Arqueologia', 'Arqueologia', 'Mate 2', 'Mate 3', 'Arqueologia', 'Arqueologia', 'Mate 2', 'Mate 4']\n"
          ]
        }
      ],
      "source": [
        "cursos = cursos + [\"Mate 4\"]\n",
        "print(cursos)"
      ]
    },
    {
      "cell_type": "markdown",
      "id": "42a424de",
      "metadata": {
        "id": "42a424de"
      },
      "source": [
        "13.2.\n",
        "- Usa la indexación para señalar a _Relaciones Internacionales_."
      ]
    },
    {
      "cell_type": "code",
      "execution_count": 20,
      "id": "a453c0fe",
      "metadata": {
        "colab": {
          "base_uri": "https://localhost:8080/"
        },
        "id": "a453c0fe",
        "outputId": "fa233c61-924f-444d-93fc-47d08c012c98"
      },
      "outputs": [
        {
          "name": "stdout",
          "output_type": "stream",
          "text": [
            "Relaciones Internacionales\n"
          ]
        }
      ],
      "source": [
        "print(cursos[4])"
      ]
    },
    {
      "cell_type": "markdown",
      "id": "f842a7f3",
      "metadata": {
        "id": "f842a7f3"
      },
      "source": [
        "13.3.\n",
        "- Remueve el curso que menos te guste de la lista.\n"
      ]
    },
    {
      "cell_type": "code",
      "execution_count": 21,
      "id": "03d70f60",
      "metadata": {
        "colab": {
          "base_uri": "https://localhost:8080/"
        },
        "id": "03d70f60",
        "outputId": "5b4f6b44-d0a0-46c0-c620-879597ddfead"
      },
      "outputs": [
        {
          "name": "stdout",
          "output_type": "stream",
          "text": [
            "['Ciencia Politica', 'Economia', 'Antropologia', 'Sociologia', 'Relaciones Internacionales', 'Arqueologia', 'Mate 2', 'Mate 3', 'Arqueologia', 'Arqueologia', 'Mate 2', 'Mate 4']\n"
          ]
        }
      ],
      "source": [
        "cursos.remove(\"Arqueologia\")\n",
        "print(cursos)"
      ]
    },
    {
      "cell_type": "markdown",
      "id": "f9952c8d",
      "metadata": {
        "id": "f9952c8d"
      },
      "source": [
        "14\n",
        "Tenemos los siguientes números: 22, 27, 74.2, 16.8, 125, 80, 100.\n",
        " - Crea una lista con ellos.\n",
        " - Ordena la lista de menor a mayor.\n",
        " - Saca el promedio de los números de la lista.  \n",
        "(Realiza cada uno en bloques separados)."
      ]
    },
    {
      "cell_type": "code",
      "execution_count": 8,
      "id": "T_OOVf_AV6Ks",
      "metadata": {
        "colab": {
          "base_uri": "https://localhost:8080/"
        },
        "id": "T_OOVf_AV6Ks",
        "outputId": "c176569b-c4a8-49cc-bd96-70c008555d69"
      },
      "outputs": [
        {
          "name": "stdout",
          "output_type": "stream",
          "text": [
            "[22, 27, 74.2, 16.8, 125, 80, 100]\n"
          ]
        }
      ],
      "source": [
        "numeros = [22, 27, 74.2, 16.8, 125, 80, 100]\n",
        "print(numeros)"
      ]
    },
    {
      "cell_type": "code",
      "execution_count": 9,
      "id": "Snd8qIc4V4BH",
      "metadata": {
        "colab": {
          "base_uri": "https://localhost:8080/"
        },
        "id": "Snd8qIc4V4BH",
        "outputId": "17e1f4fe-8a98-4777-dd91-80aaf45cbc03"
      },
      "outputs": [
        {
          "name": "stdout",
          "output_type": "stream",
          "text": [
            "[16.8, 22, 27, 74.2, 80, 100, 125]\n"
          ]
        }
      ],
      "source": [
        "numeros.sort()\n",
        "print(numeros)"
      ]
    },
    {
      "cell_type": "code",
      "execution_count": 10,
      "id": "f0eb206f",
      "metadata": {
        "colab": {
          "base_uri": "https://localhost:8080/"
        },
        "id": "f0eb206f",
        "outputId": "c19e3620-36fc-4923-8849-3833c54ede1b"
      },
      "outputs": [
        {
          "name": "stdout",
          "output_type": "stream",
          "text": [
            "63.57142857142857\n"
          ]
        }
      ],
      "source": [
        "promedio = sum(numeros) / len(numeros)\n",
        "print(promedio)"
      ]
    },
    {
      "cell_type": "markdown",
      "id": "09559938",
      "metadata": {
        "id": "09559938"
      },
      "source": [
        "15.Utilizando un “if else” cree una estructura que evalúe “x” tal que:\n",
        "\n",
        "Si x es múltiplo de 2 imprima “Es múltiplo de 2”.\n",
        "\n",
        "Si x es múltiplo de 3 imprima “Es múltiplo de 3”\n",
        "\n",
        "Si x es múltiplo de 2 y 3 imprima “Es múltiplo de 2 y 3”\n",
        "\n",
        "Para otro caso, imprime “Otro caso”\n",
        "Muestra un ejemplo con x = 6.\n",
        "\n"
      ]
    },
    {
      "cell_type": "code",
      "execution_count": null,
      "id": "97f32ab2",
      "metadata": {
        "colab": {
          "base_uri": "https://localhost:8080/"
        },
        "id": "97f32ab2",
        "outputId": "fcb6a530-ac54-4a22-9b5e-044c2adc08ab"
      },
      "outputs": [
        {
          "name": "stdout",
          "output_type": "stream",
          "text": [
            "Es múltiplo de 2 y 3\n"
          ]
        }
      ],
      "source": [
        "x = 6\n",
        "\n",
        "if x % 2 == 0 and x % 3 == 0:\n",
        "  print(\"Es múltiplo de 2 y 3\")\n",
        "elif x % 2 == 0:\n",
        "  print(\"Es múltiplo de 2\")\n",
        "elif x % 3 == 0:\n",
        "  print(\"Es múltiplo de 3\")\n",
        "else:\n",
        "  print(\"Otro caso\")"
      ]
    },
    {
      "cell_type": "markdown",
      "id": "ab0213b2",
      "metadata": {
        "id": "ab0213b2"
      },
      "source": [
        "16.Crea una función llamada clasificar_edad() que reciba como parámetro la edad de una\n",
        "persona. La función debe clasificar a la persona en una de las siguientes categorías:\n",
        "\n",
        "\"Niño\" si la edad es menor de 12 años.\n",
        "\n",
        "\"Adolescente\" si la edad está entre 12 y 17 años.\n",
        "\n",
        "“Joven” si la edad está entre 18 y 24 años.\n",
        "\n",
        "\"Adulto\" si la edad está entre 25 y 64 años.\n",
        "\n",
        "\"Adulto Mayor\" si la edad es mayor o igual a 65 años.\n",
        "\n",
        "La función debe devolver la categoría correspondiente. Prueba la función con las edades de\n",
        "10, 19, 25 y 70."
      ]
    },
    {
      "cell_type": "code",
      "execution_count": null,
      "id": "7cdc55b3",
      "metadata": {
        "colab": {
          "base_uri": "https://localhost:8080/"
        },
        "id": "7cdc55b3",
        "outputId": "04a22c50-77f7-4212-fa5f-488fc3054fea"
      },
      "outputs": [
        {
          "name": "stdout",
          "output_type": "stream",
          "text": [
            "Edad de 10 -> Niño\n"
          ]
        }
      ],
      "source": [
        "def clasificar_edad(edad):\n",
        "  if edad < 12:\n",
        "    return \"Niño\"\n",
        "  elif 12 <= edad <= 17:\n",
        "    return \"Adolescente\"\n",
        "  elif 18 <= edad <= 24:\n",
        "    return \"Joven\"\n",
        "  elif 25 <= edad <= 64:\n",
        "    return \"Adulto\"\n",
        "  else:\n",
        "    return \"Adulto Mayor\"\n",
        "print(\"Edad de 10 ->\", clasificar_edad(10))"
      ]
    },
    {
      "cell_type": "code",
      "execution_count": null,
      "id": "e70d08fb",
      "metadata": {
        "colab": {
          "base_uri": "https://localhost:8080/"
        },
        "id": "e70d08fb",
        "outputId": "a715be51-3ec1-4bfb-b440-6059a46a2967"
      },
      "outputs": [
        {
          "name": "stdout",
          "output_type": "stream",
          "text": [
            "Edad de 19 -> Joven\n"
          ]
        }
      ],
      "source": [
        "print(\"Edad de 19 ->\", clasificar_edad(19))"
      ]
    },
    {
      "cell_type": "code",
      "execution_count": null,
      "id": "464dcfcb",
      "metadata": {
        "colab": {
          "base_uri": "https://localhost:8080/"
        },
        "id": "464dcfcb",
        "outputId": "36c1d4fa-327a-4166-bc57-524956311fcc"
      },
      "outputs": [
        {
          "name": "stdout",
          "output_type": "stream",
          "text": [
            "Edad de 25 -> Adulto\n"
          ]
        }
      ],
      "source": [
        "print(\"Edad de 25 ->\", clasificar_edad(25))"
      ]
    },
    {
      "cell_type": "code",
      "execution_count": null,
      "id": "9fc3cdc5",
      "metadata": {
        "colab": {
          "base_uri": "https://localhost:8080/"
        },
        "id": "9fc3cdc5",
        "outputId": "bfd92659-7d3c-4f61-eabe-bbc921d9fae4"
      },
      "outputs": [
        {
          "name": "stdout",
          "output_type": "stream",
          "text": [
            "Edad de 70 -> Adulto Mayor\n"
          ]
        }
      ],
      "source": [
        "print(\"Edad de 70 ->\", clasificar_edad(70))"
      ]
    }
  ],
  "metadata": {
    "colab": {
      "provenance": []
    },
    "kernelspec": {
      "display_name": ".venv",
      "language": "python",
      "name": "python3"
    },
    "language_info": {
      "codemirror_mode": {
        "name": "ipython",
        "version": 3
      },
      "file_extension": ".py",
      "mimetype": "text/x-python",
      "name": "python",
      "nbconvert_exporter": "python",
      "pygments_lexer": "ipython3",
      "version": "3.12.10"
    }
  },
  "nbformat": 4,
  "nbformat_minor": 5
}
