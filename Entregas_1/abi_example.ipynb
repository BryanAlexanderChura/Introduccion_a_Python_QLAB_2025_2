{
 "cells": [
  {
   "cell_type": "code",
   "execution_count": null,
   "id": "04e4de60",
   "metadata": {},
   "outputs": [],
   "source": [
    "y= 3"
   ]
  }
 ],
 "metadata": {
  "language_info": {
   "name": "python"
  }
 },
 "nbformat": 4,
 "nbformat_minor": 5
}
