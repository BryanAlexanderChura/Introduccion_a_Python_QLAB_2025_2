{
 "cells": [
  {
   "cell_type": "markdown",
   "id": "2a44fd1e",
   "metadata": {
    "id": "2a44fd1e"
   },
   "source": [
    "# Tarea 1\n"
   ]
  },
  {
   "cell_type": "markdown",
   "id": "bdacefa6",
   "metadata": {
    "id": "bdacefa6"
   },
   "source": [
    "Fecha de entrega:\n",
    "Jueves 7 de agosto, 2025, 11:59pm\n",
    "\n",
    "Comentarios generales:\n",
    "\n",
    "- No olvidar que python usa el snake_case (o minúsculas separadas por subguión) para llamar a sus variables.\n",
    "- No nombrar variables con acentos porque algunas veces, dependiendo de la máquina en la que se corra, esto será aceptado o no.\n",
    "- Leer  claramente qué es lo que pide la pregunta.  \n",
    "   \n"
   ]
  },
  {
   "cell_type": "markdown",
   "id": "80152401",
   "metadata": {
    "id": "80152401"
   },
   "source": [
    "Ejemplo:  Utilizando sólo los siguientes inputs numéricos: ```5``` y ```2```  , maneje los operadores tal que el output sea ```120```. Crea una variable con el resultado."
   ]
  },
  {
   "cell_type": "code",
   "execution_count": 4,
   "id": "7601a7f9",
   "metadata": {
    "id": "7601a7f9",
    "outputId": "60035514-deb5-4eaf-9c29-172e0bdeecf8"
   },
   "outputs": [
    {
     "name": "stdout",
     "output_type": "stream",
     "text": [
      "120\n"
     ]
    }
   ],
   "source": [
    "#Respuesta\n",
    "\n",
    "respuesta_ejemplo= 5 * (2 + 2) * (5 - 2) * 2\n",
    "print(respuesta_ejemplo)"
   ]
  },
  {
   "cell_type": "markdown",
   "id": "a8018627",
   "metadata": {
    "id": "a8018627"
   },
   "source": [
    "1.  Utilizando sólo los siguientes inputs: ```5``` y ```2```  , maneje los operadores tal que el output sea ```100```"
   ]
  },
  {
   "cell_type": "code",
   "execution_count": 5,
   "id": "1f723e46",
   "metadata": {
    "id": "1f723e46"
   },
   "outputs": [
    {
     "name": "stdout",
     "output_type": "stream",
     "text": [
      "100\n"
     ]
    }
   ],
   "source": [
    "respuesta_1= (5*2)**2\n",
    "print(respuesta_1)"
   ]
  },
  {
   "cell_type": "markdown",
   "id": "994dc4bc",
   "metadata": {
    "id": "994dc4bc"
   },
   "source": [
    "2. Evalúa que el output del ejemplo sea mayor al output de 1. Crea una variable con esta evaluación (Hint: Será un booleano)."
   ]
  },
  {
   "cell_type": "code",
   "execution_count": 6,
   "id": "b8928779",
   "metadata": {
    "id": "b8928779"
   },
   "outputs": [
    {
     "name": "stdout",
     "output_type": "stream",
     "text": [
      "True\n"
     ]
    }
   ],
   "source": [
    "respuesta_ejemplo = 120\n",
    "respuesta_1 = 100\n",
    "evaluacion = respuesta_ejemplo > respuesta_1\n",
    "print(evaluacion)"
   ]
  },
  {
   "cell_type": "markdown",
   "id": "69918902",
   "metadata": {
    "id": "69918902"
   },
   "source": [
    "3. Utilizando sólo los siguientes inputs: ```5``` y ```1``` maneja los operadores tal que el output sea ```0```"
   ]
  },
  {
   "cell_type": "code",
   "execution_count": 7,
   "id": "4dcc2afa",
   "metadata": {
    "id": "4dcc2afa"
   },
   "outputs": [
    {
     "name": "stdout",
     "output_type": "stream",
     "text": [
      "0.0\n"
     ]
    }
   ],
   "source": [
    "respuesta_3= (5 / 5) - 1\n",
    "print(respuesta_3)"
   ]
  },
  {
   "cell_type": "markdown",
   "id": "97cf5786",
   "metadata": {
    "id": "97cf5786"
   },
   "source": [
    "4.  Utilizando sólo los siguientes inputs: ```2``` (todos los 2 que necesites) maneja los operadores tal que el output sea ```5```"
   ]
  },
  {
   "cell_type": "code",
   "execution_count": 8,
   "id": "418fdb47",
   "metadata": {
    "id": "418fdb47"
   },
   "outputs": [
    {
     "name": "stdout",
     "output_type": "stream",
     "text": [
      "5.0\n"
     ]
    }
   ],
   "source": [
    "respuesta_4= (2*2)+(2/2)\n",
    "print(respuesta_4)"
   ]
  },
  {
   "cell_type": "markdown",
   "id": "178e7ec3",
   "metadata": {
    "id": "178e7ec3"
   },
   "source": [
    "5. Crea una variable ```x``` y una variable ```y``` que sumen 2500. Crea una variable ```v``` que dé un booleano, tal que evalúe que ```x + y``` sea igual a 2200."
   ]
  },
  {
   "cell_type": "code",
   "execution_count": 9,
   "id": "0e75e524",
   "metadata": {
    "id": "0e75e524"
   },
   "outputs": [
    {
     "name": "stdout",
     "output_type": "stream",
     "text": [
      "False\n"
     ]
    }
   ],
   "source": [
    "x= 1500\n",
    "y= 1000\n",
    "v= (x + y) == 2200 \n",
    "print(v)"
   ]
  },
  {
   "cell_type": "markdown",
   "id": "163e5332",
   "metadata": {
    "id": "163e5332"
   },
   "source": [
    "6. Cree una variable ```z``` y una variable ```a``` que sumen 1000."
   ]
  },
  {
   "cell_type": "code",
   "execution_count": 10,
   "id": "846bea9d",
   "metadata": {
    "id": "846bea9d"
   },
   "outputs": [
    {
     "name": "stdout",
     "output_type": "stream",
     "text": [
      "1000\n"
     ]
    }
   ],
   "source": [
    "z=600\n",
    "a= 400\n",
    "print(z + a) "
   ]
  },
  {
   "cell_type": "markdown",
   "id": "c222c968",
   "metadata": {
    "id": "c222c968"
   },
   "source": [
    "7. Calcula cuántas horas trabajan en total los 130 congresistas de nuestro país en un año. Asume que trabajan 40 horas a la semana, por 48 semanas al año (considerando que tienen vacaciones y no trabajan sobretiempo)."
   ]
  },
  {
   "cell_type": "code",
   "execution_count": 11,
   "id": "5deb8908",
   "metadata": {
    "id": "5deb8908"
   },
   "outputs": [
    {
     "name": "stdout",
     "output_type": "stream",
     "text": [
      "Trabajaron 249600 en total en todo el año\n"
     ]
    }
   ],
   "source": [
    "total_congresitas= 130\n",
    "horas_semana= 40\n",
    "semanas_trabajadas= 48\n",
    "\n",
    "total_horas_año= (total_congresitas* horas_semana * semanas_trabajadas)\n",
    "print(\"Trabajaron\", total_horas_año, \"en total en todo el año\")"
   ]
  },
  {
   "cell_type": "markdown",
   "id": "80e32ec2",
   "metadata": {
    "id": "80e32ec2"
   },
   "source": [
    "8. Ahora calcula el salario de un congresista por hora. Los supuestos del anterior ejercicio se mantienen (Se puede pasar por alto las vacaciones). Cabe recordar que los congresistas ganan 15,600 soles mensuales.   \n",
    "- Crea una variable para el salario por hora de un congresista.   \n",
    "- Crea una variable para la suma de los salarios por hora de los 130 congresistas.\n"
   ]
  },
  {
   "cell_type": "code",
   "execution_count": 12,
   "id": "6d98f342",
   "metadata": {
    "id": "6d98f342"
   },
   "outputs": [
    {
     "name": "stdout",
     "output_type": "stream",
     "text": [
      "El salario por hora de un congresista es: 97.5\n"
     ]
    }
   ],
   "source": [
    "horastrabajadas_mes= 40*4\n",
    "\n",
    "salario_hora= 15600/horastrabajadas_mes\n",
    "print(\"El salario por hora de un congresista es:\", salario_hora)"
   ]
  },
  {
   "cell_type": "code",
   "execution_count": 13,
   "id": "3ba8ae33",
   "metadata": {},
   "outputs": [
    {
     "name": "stdout",
     "output_type": "stream",
     "text": [
      "12675.0\n"
     ]
    }
   ],
   "source": [
    "suma_salarios_hora = salario_hora * total_congresitas\n",
    "print(suma_salarios_hora)"
   ]
  },
  {
   "cell_type": "markdown",
   "id": "ae512853",
   "metadata": {
    "id": "ae512853"
   },
   "source": [
    "9. Con la reducción del IGV para restaurantes y hoteles (https://emprender.sunat.gob.pe/tributando/temas-actualidad/reduccion-igv-para-restaurantes-hoteles), los restaurantes pagan el 10% de IGV. Un restaurante factura 3426 soles diarios, en promedio, después de impuestos. Calcule el valor base (el IGV es 10% sobre el valor base, ó 1 + .1).\n",
    "\n",
    "Calcule, utilizando el valor base, cuánto es el descuento del IGV en soles (o el 8% de este valor base).\n",
    "\n",
    "Cree una variable para cada uno de los siguientes:\n",
    "- porcentaje de IGV\n",
    "- el total de facturación\n",
    "- el monto del impuesto\n",
    "- el valor base sin impuesto\n",
    "- el descuento de IGV en soles. Puedes comprobar tu fórmula con cualquier recibo de pago que detalle el IGV."
   ]
  },
  {
   "cell_type": "code",
   "execution_count": 14,
   "id": "51599f11",
   "metadata": {
    "id": "51599f11"
   },
   "outputs": [
    {
     "name": "stdout",
     "output_type": "stream",
     "text": [
      "El IGV es 0.1\n",
      "El total de facturación es S/3426\n",
      "El monto del impuesto es S/311.45\n",
      "El valor base sin impuesto es S/3114.55\n",
      "El descuento de IGV es S/249.16\n"
     ]
    }
   ],
   "source": [
    "IGV=0.1\n",
    "total_facturacion=3426\n",
    "valor_base=3426/(1+IGV)\n",
    "monto_IGV=total_facturacion-valor_base\n",
    "desc_IGV=valor_base*0.08\n",
    "mensaje6=f\"El IGV es {IGV}\"\n",
    "print(mensaje6)\n",
    "mensaje7=f\"El total de facturación es S/3426\"\n",
    "mensaje8=f\"El monto del impuesto es S/{round(monto_IGV,2)}\"\n",
    "mensaje9=f\"El valor base sin impuesto es S/{round(valor_base,2)}\"\n",
    "mensaje10=f\"El descuento de IGV es S/{round(desc_IGV,2)}\"\n",
    "print(mensaje7)\n",
    "print(mensaje8)\n",
    "print(mensaje9)\n",
    "print(mensaje10)"
   ]
  },
  {
   "cell_type": "markdown",
   "id": "69f6e4f9",
   "metadata": {
    "id": "69f6e4f9"
   },
   "source": [
    "10.  Cristina percibe el sueldo mínimo (1130 soles). Compruebe que el salario anual de Cristina es menor al salario anual de un congresista, usando operadores de comparación y una expresión que detalle el monto mensual y el número de meses trabajados de ambos. La comparación debe ser ser evaluada a un booleano"
   ]
  },
  {
   "cell_type": "code",
   "execution_count": 15,
   "id": "cc09bc62",
   "metadata": {
    "id": "cc09bc62"
   },
   "outputs": [
    {
     "name": "stdout",
     "output_type": "stream",
     "text": [
      "El salario que corresponde a 12 meses de trabajo por Cristina es: 13560\n",
      "El salario que corresponde a 12 meses de trabajo por un congresista es: 187200\n",
      "True\n"
     ]
    }
   ],
   "source": [
    "# Sueldo mensual de Cristina y un congresista\n",
    "cris_sueldoM= 1130\n",
    "salario_m= 15600\n",
    "# Sueldo anual de Cristina y un congresista \n",
    "cris_sueldoA= cris_sueldoM*12\n",
    "salario_a= salario_m*12\n",
    "cris_sueldoA<salario_a\n",
    "print(\"El salario que corresponde a 12 meses de trabajo por Cristina es:\", cris_sueldoA) \n",
    "print(\"El salario que corresponde a 12 meses de trabajo por un congresista es:\", salario_a)\n",
    "print(cris_sueldoA<salario_a)"
   ]
  },
  {
   "cell_type": "markdown",
   "id": "37de8248",
   "metadata": {
    "id": "37de8248"
   },
   "source": [
    "11. Una conocida petrolera debe volver a compensar a  1023 familias que se dedican a la pesca por la contaminación causada en el mar donde pescan. El nuevo monto negociado es de 1200 millones de soles, sin embargo, una cláusula del contrato dice que el monto de compensación tiene que ser un número entero. ¿Cuántos soles adicionales se le  tiene  que agregar al monto negociado para que las familias reciban una cantidad entera,  asumiendo que para lograr este número entero, hay que elevar el monto total? (Pista: Acuérdate del  floor y el módulo)."
   ]
  },
  {
   "cell_type": "code",
   "execution_count": 16,
   "id": "6599073c",
   "metadata": {},
   "outputs": [
    {
     "name": "stdout",
     "output_type": "stream",
     "text": [
      "El monto de recompensa por familia es: 1173021\n",
      "Soles adicionales que se deben agregar: 483\n"
     ]
    }
   ],
   "source": [
    "familias = 1023\n",
    "monto_recompensa = 1200000000  # 1200 millones\n",
    "\n",
    "# Monto inicial de recompensa por familia\n",
    "recompensa_familiar_inicial = monto_recompensa / familias\n",
    "\n",
    "# Monto entero por familia (redondeado hacia arriba)\n",
    "import math\n",
    "recompensa_entero = math.ceil(recompensa_familiar_inicial)\n",
    "print(\"El monto de recompensa por familia es:\", recompensa_entero)\n",
    "\n",
    "# Soles adicionales que se deben agregar\n",
    "nuevo_monto_total = recompensa_entero * familias\n",
    "soles_adicionales = nuevo_monto_total - monto_recompensa\n",
    "print(\"Soles adicionales que se deben agregar:\", soles_adicionales)"
   ]
  },
  {
   "cell_type": "markdown",
   "id": "75a0de8e",
   "metadata": {
    "id": "75a0de8e"
   },
   "source": [
    "12. Crea una variable igual a una lista que contenga:\n",
    "- un string,\n",
    "- un booleano,\n",
    "- dos valores numéricos (de cualquier tipo) y\n",
    "- una lista de dos strings con el nombre de tus artistas musicales favoritos."
   ]
  },
  {
   "cell_type": "code",
   "execution_count": 17,
   "id": "721f56c9",
   "metadata": {
    "id": "721f56c9"
   },
   "outputs": [
    {
     "name": "stdout",
     "output_type": "stream",
     "text": [
      "['Perú 2025', True, 3.14, 42, ['Bruno Mars', 'Jaze']]\n"
     ]
    }
   ],
   "source": [
    "mi_lista = [\"Perú 2025\", True, 3.14, 42, [\"Bruno Mars\", \"Jaze\"]]\n",
    "\n",
    "print(mi_lista)"
   ]
  },
  {
   "cell_type": "markdown",
   "id": "5e64d253",
   "metadata": {
    "id": "5e64d253"
   },
   "source": [
    "13. Tenemos la siguiente lista de cursos:"
   ]
  },
  {
   "cell_type": "code",
   "execution_count": 18,
   "id": "8011eabe",
   "metadata": {
    "id": "8011eabe"
   },
   "outputs": [],
   "source": [
    "cursos = [\"Ciencia Politica\", \"Economia\", \"Antropologia\", \"Sociologia\", \"Relaciones Internacionales\"]\n"
   ]
  },
  {
   "cell_type": "markdown",
   "id": "df10d9ac",
   "metadata": {
    "id": "df10d9ac"
   },
   "source": [
    "Realiza las siguientes operaciones en bloques diferentes:\n",
    "- Calcula cuántos elementos tiene la lista."
   ]
  },
  {
   "cell_type": "code",
   "execution_count": 19,
   "id": "2610418e",
   "metadata": {
    "id": "2610418e"
   },
   "outputs": [
    {
     "data": {
      "text/plain": [
       "5"
      ]
     },
     "execution_count": 19,
     "metadata": {},
     "output_type": "execute_result"
    }
   ],
   "source": [
    "len(cursos)"
   ]
  },
  {
   "cell_type": "markdown",
   "id": "0e1e30ac",
   "metadata": {
    "id": "0e1e30ac"
   },
   "source": [
    "13.1. Agrega tres cursos adicionales de 3 formas diferentes (uno por forma):\n",
    "   - Suma (+) una lista que contenga un curso adicional.\n",
    "   - Usa el append.\n",
    "   - Usa el extend."
   ]
  },
  {
   "cell_type": "code",
   "execution_count": 20,
   "id": "dd9e9b9f",
   "metadata": {
    "id": "dd9e9b9f"
   },
   "outputs": [
    {
     "name": "stdout",
     "output_type": "stream",
     "text": [
      "['Ciencia Politica', 'Economia', 'Antropologia', 'Sociologia', 'Relaciones Internacionales', 'Derecho']\n"
     ]
    }
   ],
   "source": [
    "cursos = cursos + [\"Derecho\"]\n",
    "print(cursos)"
   ]
  },
  {
   "cell_type": "code",
   "execution_count": 21,
   "id": "8199e9fd",
   "metadata": {},
   "outputs": [
    {
     "name": "stdout",
     "output_type": "stream",
     "text": [
      "['Ciencia Politica', 'Economia', 'Antropologia', 'Sociologia', 'Relaciones Internacionales', 'Derecho', 'Finanzas']\n"
     ]
    }
   ],
   "source": [
    "cursos.append(\"Finanzas\")\n",
    "print(cursos)"
   ]
  },
  {
   "cell_type": "code",
   "execution_count": 22,
   "id": "efab387b",
   "metadata": {},
   "outputs": [
    {
     "name": "stdout",
     "output_type": "stream",
     "text": [
      "['Ciencia Politica', 'Economia', 'Antropologia', 'Sociologia', 'Relaciones Internacionales', 'Derecho', 'Finanzas', 'Historia']\n"
     ]
    }
   ],
   "source": [
    "cursos.extend([\"Historia\"])\n",
    "print(cursos)"
   ]
  },
  {
   "cell_type": "markdown",
   "id": "42a424de",
   "metadata": {
    "id": "42a424de"
   },
   "source": [
    "13.2.\n",
    "- Usa la indexación para señalar a _Relaciones Internacionales_."
   ]
  },
  {
   "cell_type": "code",
   "execution_count": 23,
   "id": "a453c0fe",
   "metadata": {
    "id": "a453c0fe"
   },
   "outputs": [
    {
     "data": {
      "text/plain": [
       "'Relaciones Internacionales'"
      ]
     },
     "execution_count": 23,
     "metadata": {},
     "output_type": "execute_result"
    }
   ],
   "source": [
    "cursos[4]"
   ]
  },
  {
   "cell_type": "markdown",
   "id": "f842a7f3",
   "metadata": {
    "id": "f842a7f3"
   },
   "source": [
    "13.3.\n",
    "- Remueve el curso que menos te guste de la lista.\n"
   ]
  },
  {
   "cell_type": "code",
   "execution_count": 24,
   "id": "03d70f60",
   "metadata": {
    "id": "03d70f60"
   },
   "outputs": [
    {
     "name": "stdout",
     "output_type": "stream",
     "text": [
      "['Economia', 'Antropologia', 'Sociologia', 'Relaciones Internacionales', 'Derecho', 'Finanzas', 'Historia']\n"
     ]
    }
   ],
   "source": [
    "cursos.remove(\"Ciencia Politica\")\n",
    "print(cursos)"
   ]
  },
  {
   "cell_type": "markdown",
   "id": "f9952c8d",
   "metadata": {
    "id": "f9952c8d"
   },
   "source": [
    "14\n",
    "Tenemos los siguientes números: 22, 27, 74.2, 16.8, 125, 80, 100.\n",
    " - Crea una lista con ellos.\n",
    " - Ordena la lista de menor a mayor.\n",
    " - Saca el promedio de los números de la lista.  \n",
    "(Realiza cada uno en bloques separados)."
   ]
  },
  {
   "cell_type": "code",
   "execution_count": 25,
   "id": "f0eb206f",
   "metadata": {
    "id": "f0eb206f"
   },
   "outputs": [
    {
     "name": "stdout",
     "output_type": "stream",
     "text": [
      "[22, 27, 74.2, 16.8, 125, 80, 100]\n"
     ]
    }
   ],
   "source": [
    "numeros = [22, 27, 74.2, 16.8, 125, 80, 100]\n",
    "print(numeros)"
   ]
  },
  {
   "cell_type": "code",
   "execution_count": 26,
   "id": "78d69454",
   "metadata": {},
   "outputs": [
    {
     "name": "stdout",
     "output_type": "stream",
     "text": [
      "[16.8, 22, 27, 74.2, 80, 100, 125]\n"
     ]
    }
   ],
   "source": [
    "numeros.sort()\n",
    "print(numeros)"
   ]
  },
  {
   "cell_type": "code",
   "execution_count": 27,
   "id": "745e0876",
   "metadata": {},
   "outputs": [
    {
     "name": "stdout",
     "output_type": "stream",
     "text": [
      "63.57\n"
     ]
    }
   ],
   "source": [
    "numeros_promedio = sum(numeros) / len(numeros)\n",
    "print(round(numeros_promedio, 2))"
   ]
  },
  {
   "cell_type": "markdown",
   "id": "09559938",
   "metadata": {
    "id": "09559938"
   },
   "source": [
    "15.Utilizando un “if else” cree una estructura que evalúe “x” tal que:\n",
    "\n",
    "Si x es múltiplo de 2 imprima “Es múltiplo de 2”.\n",
    "\n",
    "Si x es múltiplo de 3 imprima “Es múltiplo de 3”\n",
    "\n",
    "Si x es múltiplo de 2 y 3 imprima “Es múltiplo de 2 y 3”\n",
    "\n",
    "Para otro caso, imprime “Otro caso”\n",
    "Muestra un ejemplo con x = 6.\n",
    "\n"
   ]
  },
  {
   "cell_type": "code",
   "execution_count": 28,
   "id": "97f32ab2",
   "metadata": {
    "id": "97f32ab2"
   },
   "outputs": [
    {
     "name": "stdout",
     "output_type": "stream",
     "text": [
      "Es múltiplo de 2 y 3\n"
     ]
    }
   ],
   "source": [
    "x = 6\n",
    "if x % 2 == 0 and x % 3 == 0: print(\"Es múltiplo de 2 y 3\")\n",
    "elif x % 2 == 0: print(\"Es múltiplo de 2\")\n",
    "elif x % 3 == 0: print(\"Es múltiplo de 3\")\n",
    "else: print(\"Otro caso\")"
   ]
  },
  {
   "cell_type": "markdown",
   "id": "ab0213b2",
   "metadata": {
    "id": "ab0213b2"
   },
   "source": [
    "16.Crea una función llamada clasificar_edad() que reciba como parámetro la edad de una\n",
    "persona. La función debe clasificar a la persona en una de las siguientes categorías:\n",
    "\n",
    "\"Niño\" si la edad es menor de 12 años.\n",
    "\n",
    "\"Adolescente\" si la edad está entre 12 y 17 años.\n",
    "\n",
    "“Joven” si la edad está entre 18 y 24 años.\n",
    "\n",
    "\"Adulto\" si la edad está entre 25 y 64 años.\n",
    "\n",
    "\"Adulto Mayor\" si la edad es mayor o igual a 65 años.\n",
    "\n",
    "La función debe devolver la categoría correspondiente. Prueba la función con las edades de\n",
    "10, 19, 25 y 70."
   ]
  },
  {
   "cell_type": "code",
   "execution_count": 29,
   "id": "7cdc55b3",
   "metadata": {
    "id": "7cdc55b3"
   },
   "outputs": [],
   "source": [
    "def clasificar_edad(edad): \n",
    "    if edad < 12: return \"Niño\" \n",
    "    elif 12 <= edad <= 17: return \"Adolescente\"\n",
    "    elif 18 <= edad <= 24: return \"Joven\"\n",
    "    elif 25 <= edad <= 64: return \"Adulto\"\n",
    "    else: return \"Adulto Mayor\"\n"
   ]
  },
  {
   "cell_type": "code",
   "execution_count": 30,
   "id": "e70d08fb",
   "metadata": {
    "id": "e70d08fb"
   },
   "outputs": [
    {
     "data": {
      "text/plain": [
       "'Niño'"
      ]
     },
     "execution_count": 30,
     "metadata": {},
     "output_type": "execute_result"
    }
   ],
   "source": [
    "clasificar_edad(10)"
   ]
  },
  {
   "cell_type": "code",
   "execution_count": 31,
   "id": "464dcfcb",
   "metadata": {
    "id": "464dcfcb"
   },
   "outputs": [
    {
     "data": {
      "text/plain": [
       "'Joven'"
      ]
     },
     "execution_count": 31,
     "metadata": {},
     "output_type": "execute_result"
    }
   ],
   "source": [
    "clasificar_edad(19)"
   ]
  },
  {
   "cell_type": "code",
   "execution_count": 32,
   "id": "9fc3cdc5",
   "metadata": {
    "id": "9fc3cdc5"
   },
   "outputs": [
    {
     "data": {
      "text/plain": [
       "'Adulto'"
      ]
     },
     "execution_count": 32,
     "metadata": {},
     "output_type": "execute_result"
    }
   ],
   "source": [
    "clasificar_edad(25)"
   ]
  },
  {
   "cell_type": "code",
   "execution_count": 33,
   "id": "002bb227",
   "metadata": {},
   "outputs": [
    {
     "data": {
      "text/plain": [
       "'Adulto Mayor'"
      ]
     },
     "execution_count": 33,
     "metadata": {},
     "output_type": "execute_result"
    }
   ],
   "source": [
    "clasificar_edad(65)"
   ]
  }
 ],
 "metadata": {
  "colab": {
   "provenance": []
  },
  "kernelspec": {
   "display_name": ".venv",
   "language": "python",
   "name": "python3"
  },
  "language_info": {
   "codemirror_mode": {
    "name": "ipython",
    "version": 3
   },
   "file_extension": ".py",
   "mimetype": "text/x-python",
   "name": "python",
   "nbconvert_exporter": "python",
   "pygments_lexer": "ipython3",
   "version": "3.12.10"
  }
 },
 "nbformat": 4,
 "nbformat_minor": 5
}
