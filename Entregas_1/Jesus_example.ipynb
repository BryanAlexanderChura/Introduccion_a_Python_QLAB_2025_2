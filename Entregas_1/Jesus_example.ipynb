{
 "cells": [
  {
   "cell_type": "code",
   "execution_count": null,
   "id": "c37b9e5c",
   "metadata": {},
   "outputs": [],
   "source": [
    "x=5"
   ]
  }
 ],
 "metadata": {
  "language_info": {
   "name": "python"
  }
 },
 "nbformat": 4,
 "nbformat_minor": 5
}
